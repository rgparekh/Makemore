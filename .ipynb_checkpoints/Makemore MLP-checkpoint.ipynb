{
 "cells": [
  {
   "cell_type": "code",
   "execution_count": 1,
   "id": "0e94dacd",
   "metadata": {},
   "outputs": [],
   "source": [
    "import torch\n",
    "import torch.nn.functional as F\n",
    "import matplotlib.pyplot as plt\n",
    "%matplotlib inline"
   ]
  },
  {
   "cell_type": "code",
   "execution_count": 4,
   "id": "ecbc9dd4",
   "metadata": {},
   "outputs": [
    {
     "data": {
      "text/plain": [
       "['emma', 'olivia', 'ava', 'isabella', 'sophia', 'charlotte', 'mia', 'amelia']"
      ]
     },
     "execution_count": 4,
     "metadata": {},
     "output_type": "execute_result"
    }
   ],
   "source": [
    "# Read in the words\n",
    "words = open('/Users/rajesh/Documents/Datasets/names.txt', 'r').read().splitlines()\n",
    "words[:8]"
   ]
  },
  {
   "cell_type": "code",
   "execution_count": 5,
   "id": "2d68434b",
   "metadata": {},
   "outputs": [
    {
     "data": {
      "text/plain": [
       "32033"
      ]
     },
     "execution_count": 5,
     "metadata": {},
     "output_type": "execute_result"
    }
   ],
   "source": [
    "len(words)"
   ]
  },
  {
   "cell_type": "code",
   "execution_count": 7,
   "id": "a991470d",
   "metadata": {},
   "outputs": [
    {
     "name": "stdout",
     "output_type": "stream",
     "text": [
      "{1: 'a', 2: 'b', 3: 'c', 4: 'd', 5: 'e', 6: 'f', 7: 'g', 8: 'h', 9: 'i', 10: 'j', 11: 'k', 12: 'l', 13: 'm', 14: 'n', 15: 'o', 16: 'p', 17: 'q', 18: 'r', 19: 's', 20: 't', 21: 'u', 22: 'v', 23: 'w', 24: 'x', 25: 'y', 26: 'z', 0: '.'}\n"
     ]
    }
   ],
   "source": [
    "# Build the vocabulary of characters and mappings to/from integers\n",
    "chars = sorted(list(set(''.join(words))))\n",
    "stoi = {s:i+1 for i,s in enumerate(chars)}\n",
    "stoi['.'] = 0\n",
    "itos = {i:s for s,i in stoi.items()}\n",
    "print(itos)"
   ]
  },
  {
   "cell_type": "code",
   "execution_count": 9,
   "id": "5cd9c06e",
   "metadata": {},
   "outputs": [
    {
     "name": "stdout",
     "output_type": "stream",
     "text": [
      "emma\n",
      "... -----> e\n",
      "..e -----> m\n",
      ".em -----> m\n",
      "emm -----> a\n",
      "mma -----> .\n",
      "olivia\n",
      "... -----> o\n",
      "..o -----> l\n",
      ".ol -----> i\n",
      "oli -----> v\n",
      "liv -----> i\n",
      "ivi -----> a\n",
      "via -----> .\n",
      "ava\n",
      "... -----> a\n",
      "..a -----> v\n",
      ".av -----> a\n",
      "ava -----> .\n",
      "isabella\n",
      "... -----> i\n",
      "..i -----> s\n",
      ".is -----> a\n",
      "isa -----> b\n",
      "sab -----> e\n",
      "abe -----> l\n",
      "bel -----> l\n",
      "ell -----> a\n",
      "lla -----> .\n",
      "sophia\n",
      "... -----> s\n",
      "..s -----> o\n",
      ".so -----> p\n",
      "sop -----> h\n",
      "oph -----> i\n",
      "phi -----> a\n",
      "hia -----> .\n"
     ]
    }
   ],
   "source": [
    "# Build the dataset\n",
    "\n",
    "block_size = 3     # Context Length: How many previous characters do we use to predict the next one?\n",
    "X, Y = [], []\n",
    "for w in words[:5]:\n",
    "    print(w)\n",
    "    context = [0] * block_size\n",
    "    for ch in w + '.':\n",
    "        idx = stoi[ch]\n",
    "        X.append(context)\n",
    "        Y.append(idx)\n",
    "        print(''.join(itos[i] for i in context), '----->', itos[idx])\n",
    "        context = context[1:] + [idx]     # Crop and append\n",
    "\n",
    "X = torch.tensor(X)\n",
    "Y = torch.tensor(Y)"
   ]
  },
  {
   "cell_type": "code",
   "execution_count": 10,
   "id": "80f31812",
   "metadata": {},
   "outputs": [
    {
     "data": {
      "text/plain": [
       "(torch.Size([32, 3]), torch.int64, torch.Size([32]), torch.int64)"
      ]
     },
     "execution_count": 10,
     "metadata": {},
     "output_type": "execute_result"
    }
   ],
   "source": [
    "X.shape, X.dtype, Y.shape, Y.dtype"
   ]
  },
  {
   "cell_type": "code",
   "execution_count": 11,
   "id": "eb27982e",
   "metadata": {},
   "outputs": [],
   "source": [
    "# Embedding logup table\n",
    "C = torch.randn((27,2))"
   ]
  },
  {
   "cell_type": "code",
   "execution_count": 12,
   "id": "651361d1",
   "metadata": {},
   "outputs": [
    {
     "data": {
      "text/plain": [
       "tensor([-0.5771, -0.2291])"
      ]
     },
     "execution_count": 12,
     "metadata": {},
     "output_type": "execute_result"
    }
   ],
   "source": [
    "C[5]"
   ]
  },
  {
   "cell_type": "code",
   "execution_count": 13,
   "id": "7fa63641",
   "metadata": {},
   "outputs": [
    {
     "data": {
      "text/plain": [
       "tensor([0, 0, 0, 0, 0, 1, 0, 0, 0, 0, 0, 0, 0, 0, 0, 0, 0, 0, 0, 0, 0, 0, 0, 0,\n",
       "        0, 0, 0])"
      ]
     },
     "execution_count": 13,
     "metadata": {},
     "output_type": "execute_result"
    }
   ],
   "source": [
    "F.one_hot(torch.tensor(5), num_classes=27)"
   ]
  },
  {
   "cell_type": "code",
   "execution_count": 14,
   "id": "6f152e32",
   "metadata": {},
   "outputs": [
    {
     "data": {
      "text/plain": [
       "tensor([-0.5771, -0.2291])"
      ]
     },
     "execution_count": 14,
     "metadata": {},
     "output_type": "execute_result"
    }
   ],
   "source": [
    "# Multiply the one hot encoding vector with the columns of C\n",
    "\n",
    "F.one_hot(torch.tensor(5), num_classes=27).float() @ C"
   ]
  },
  {
   "cell_type": "code",
   "execution_count": 18,
   "id": "311147bc",
   "metadata": {},
   "outputs": [
    {
     "data": {
      "text/plain": [
       "tensor([[-0.5771, -0.2291],\n",
       "        [-0.3132, -1.0164],\n",
       "        [-0.2915,  1.8365],\n",
       "        [-0.2915,  1.8365],\n",
       "        [-0.2915,  1.8365],\n",
       "        [-0.2915,  1.8365]])"
      ]
     },
     "execution_count": 18,
     "metadata": {},
     "output_type": "execute_result"
    }
   ],
   "source": [
    "# Get multiple elements\n",
    "# Note that the index 7 is repeated multiple times and will be retrieved as many times\n",
    "C[torch.tensor([5,6,7,7,7,7])]"
   ]
  },
  {
   "cell_type": "code",
   "execution_count": 19,
   "id": "4c85b31f",
   "metadata": {},
   "outputs": [
    {
     "data": {
      "text/plain": [
       "torch.Size([32, 3, 2])"
      ]
     },
     "execution_count": 19,
     "metadata": {},
     "output_type": "execute_result"
    }
   ],
   "source": [
    "C[X].shape"
   ]
  },
  {
   "cell_type": "code",
   "execution_count": 20,
   "id": "4f8aa801",
   "metadata": {},
   "outputs": [
    {
     "data": {
      "text/plain": [
       "torch.Size([32, 3, 2])"
      ]
     },
     "execution_count": 20,
     "metadata": {},
     "output_type": "execute_result"
    }
   ],
   "source": [
    "# Using pytorch indexing we create our embedding as follows\n",
    "emb = C[X]\n",
    "emb.shape"
   ]
  },
  {
   "cell_type": "code",
   "execution_count": 21,
   "id": "a7324a60",
   "metadata": {},
   "outputs": [],
   "source": [
    "# Construct the hidden layer\n",
    "# We have 3 embeddings each of which is 2 dimensional - 6 inputs\n",
    "# Assume 100 neurons in the hidden layer\n",
    "# b is bias\n",
    "\n",
    "W1 = torch.randn((6,100))\n",
    "b1 = torch.randn(100)"
   ]
  },
  {
   "cell_type": "code",
   "execution_count": 22,
   "id": "e5c0a050",
   "metadata": {},
   "outputs": [
    {
     "ename": "RuntimeError",
     "evalue": "mat1 and mat2 shapes cannot be multiplied (96x2 and 6x100)",
     "output_type": "error",
     "traceback": [
      "\u001b[0;31m---------------------------------------------------------------------------\u001b[0m",
      "\u001b[0;31mRuntimeError\u001b[0m                              Traceback (most recent call last)",
      "Cell \u001b[0;32mIn[22], line 2\u001b[0m\n\u001b[1;32m      1\u001b[0m \u001b[38;5;66;03m# We want to multiply the embeddings by the weight\u001b[39;00m\n\u001b[0;32m----> 2\u001b[0m \u001b[43memb\u001b[49m\u001b[43m \u001b[49m\u001b[38;5;241;43m@\u001b[39;49m\u001b[43m \u001b[49m\u001b[43mW1\u001b[49m \u001b[38;5;241m+\u001b[39m b1\n",
      "\u001b[0;31mRuntimeError\u001b[0m: mat1 and mat2 shapes cannot be multiplied (96x2 and 6x100)"
     ]
    }
   ],
   "source": [
    "# We want to multiply the embeddings by the weight\n",
    "# However, the below gives an error because the embeddings have not been concatenated\n",
    "emb @ W1 + b1"
   ]
  },
  {
   "cell_type": "code",
   "execution_count": 24,
   "id": "ec01fe6a",
   "metadata": {},
   "outputs": [
    {
     "data": {
      "text/plain": [
       "tensor([[ 1.1960, -1.3210,  1.1960, -1.3210,  1.1960, -1.3210],\n",
       "        [ 1.1960, -1.3210,  1.1960, -1.3210, -0.5771, -0.2291],\n",
       "        [ 1.1960, -1.3210, -0.5771, -0.2291,  1.2075, -0.6821],\n",
       "        [-0.5771, -0.2291,  1.2075, -0.6821,  1.2075, -0.6821],\n",
       "        [ 1.2075, -0.6821,  1.2075, -0.6821,  0.6793, -1.3878],\n",
       "        [ 1.1960, -1.3210,  1.1960, -1.3210,  1.1960, -1.3210],\n",
       "        [ 1.1960, -1.3210,  1.1960, -1.3210, -1.2841,  1.7233],\n",
       "        [ 1.1960, -1.3210, -1.2841,  1.7233,  2.0226, -1.2506],\n",
       "        [-1.2841,  1.7233,  2.0226, -1.2506,  1.1542,  0.4299],\n",
       "        [ 2.0226, -1.2506,  1.1542,  0.4299, -0.5908,  0.8096],\n",
       "        [ 1.1542,  0.4299, -0.5908,  0.8096,  1.1542,  0.4299],\n",
       "        [-0.5908,  0.8096,  1.1542,  0.4299,  0.6793, -1.3878],\n",
       "        [ 1.1960, -1.3210,  1.1960, -1.3210,  1.1960, -1.3210],\n",
       "        [ 1.1960, -1.3210,  1.1960, -1.3210,  0.6793, -1.3878],\n",
       "        [ 1.1960, -1.3210,  0.6793, -1.3878, -0.5908,  0.8096],\n",
       "        [ 0.6793, -1.3878, -0.5908,  0.8096,  0.6793, -1.3878],\n",
       "        [ 1.1960, -1.3210,  1.1960, -1.3210,  1.1960, -1.3210],\n",
       "        [ 1.1960, -1.3210,  1.1960, -1.3210,  1.1542,  0.4299],\n",
       "        [ 1.1960, -1.3210,  1.1542,  0.4299, -0.6814, -0.0943],\n",
       "        [ 1.1542,  0.4299, -0.6814, -0.0943,  0.6793, -1.3878],\n",
       "        [-0.6814, -0.0943,  0.6793, -1.3878, -0.6247,  1.1240],\n",
       "        [ 0.6793, -1.3878, -0.6247,  1.1240, -0.5771, -0.2291],\n",
       "        [-0.6247,  1.1240, -0.5771, -0.2291,  2.0226, -1.2506],\n",
       "        [-0.5771, -0.2291,  2.0226, -1.2506,  2.0226, -1.2506],\n",
       "        [ 2.0226, -1.2506,  2.0226, -1.2506,  0.6793, -1.3878],\n",
       "        [ 1.1960, -1.3210,  1.1960, -1.3210,  1.1960, -1.3210],\n",
       "        [ 1.1960, -1.3210,  1.1960, -1.3210, -0.6814, -0.0943],\n",
       "        [ 1.1960, -1.3210, -0.6814, -0.0943, -1.2841,  1.7233],\n",
       "        [-0.6814, -0.0943, -1.2841,  1.7233,  0.6852, -2.2540],\n",
       "        [-1.2841,  1.7233,  0.6852, -2.2540, -0.2732,  0.7326],\n",
       "        [ 0.6852, -2.2540, -0.2732,  0.7326,  1.1542,  0.4299],\n",
       "        [-0.2732,  0.7326,  1.1542,  0.4299,  0.6793, -1.3878]])"
      ]
     },
     "execution_count": 24,
     "metadata": {},
     "output_type": "execute_result"
    }
   ],
   "source": [
    "# Note that the emb is a tensor of size 32, 3, 2\n",
    "# This results in a 32 x 6 tensor by concatenating the 3 embeddings\n",
    "torch.cat([emb[:, 0, :], emb[:, 1, :], emb [:, 2, :]], 1)"
   ]
  },
  {
   "cell_type": "code",
   "execution_count": 25,
   "id": "36555214",
   "metadata": {},
   "outputs": [
    {
     "data": {
      "text/plain": [
       "(tensor([[ 1.1960, -1.3210],\n",
       "         [ 1.1960, -1.3210],\n",
       "         [ 1.1960, -1.3210],\n",
       "         [-0.5771, -0.2291],\n",
       "         [ 1.2075, -0.6821],\n",
       "         [ 1.1960, -1.3210],\n",
       "         [ 1.1960, -1.3210],\n",
       "         [ 1.1960, -1.3210],\n",
       "         [-1.2841,  1.7233],\n",
       "         [ 2.0226, -1.2506],\n",
       "         [ 1.1542,  0.4299],\n",
       "         [-0.5908,  0.8096],\n",
       "         [ 1.1960, -1.3210],\n",
       "         [ 1.1960, -1.3210],\n",
       "         [ 1.1960, -1.3210],\n",
       "         [ 0.6793, -1.3878],\n",
       "         [ 1.1960, -1.3210],\n",
       "         [ 1.1960, -1.3210],\n",
       "         [ 1.1960, -1.3210],\n",
       "         [ 1.1542,  0.4299],\n",
       "         [-0.6814, -0.0943],\n",
       "         [ 0.6793, -1.3878],\n",
       "         [-0.6247,  1.1240],\n",
       "         [-0.5771, -0.2291],\n",
       "         [ 2.0226, -1.2506],\n",
       "         [ 1.1960, -1.3210],\n",
       "         [ 1.1960, -1.3210],\n",
       "         [ 1.1960, -1.3210],\n",
       "         [-0.6814, -0.0943],\n",
       "         [-1.2841,  1.7233],\n",
       "         [ 0.6852, -2.2540],\n",
       "         [-0.2732,  0.7326]]),\n",
       " tensor([[ 1.1960, -1.3210],\n",
       "         [ 1.1960, -1.3210],\n",
       "         [-0.5771, -0.2291],\n",
       "         [ 1.2075, -0.6821],\n",
       "         [ 1.2075, -0.6821],\n",
       "         [ 1.1960, -1.3210],\n",
       "         [ 1.1960, -1.3210],\n",
       "         [-1.2841,  1.7233],\n",
       "         [ 2.0226, -1.2506],\n",
       "         [ 1.1542,  0.4299],\n",
       "         [-0.5908,  0.8096],\n",
       "         [ 1.1542,  0.4299],\n",
       "         [ 1.1960, -1.3210],\n",
       "         [ 1.1960, -1.3210],\n",
       "         [ 0.6793, -1.3878],\n",
       "         [-0.5908,  0.8096],\n",
       "         [ 1.1960, -1.3210],\n",
       "         [ 1.1960, -1.3210],\n",
       "         [ 1.1542,  0.4299],\n",
       "         [-0.6814, -0.0943],\n",
       "         [ 0.6793, -1.3878],\n",
       "         [-0.6247,  1.1240],\n",
       "         [-0.5771, -0.2291],\n",
       "         [ 2.0226, -1.2506],\n",
       "         [ 2.0226, -1.2506],\n",
       "         [ 1.1960, -1.3210],\n",
       "         [ 1.1960, -1.3210],\n",
       "         [-0.6814, -0.0943],\n",
       "         [-1.2841,  1.7233],\n",
       "         [ 0.6852, -2.2540],\n",
       "         [-0.2732,  0.7326],\n",
       "         [ 1.1542,  0.4299]]),\n",
       " tensor([[ 1.1960, -1.3210],\n",
       "         [-0.5771, -0.2291],\n",
       "         [ 1.2075, -0.6821],\n",
       "         [ 1.2075, -0.6821],\n",
       "         [ 0.6793, -1.3878],\n",
       "         [ 1.1960, -1.3210],\n",
       "         [-1.2841,  1.7233],\n",
       "         [ 2.0226, -1.2506],\n",
       "         [ 1.1542,  0.4299],\n",
       "         [-0.5908,  0.8096],\n",
       "         [ 1.1542,  0.4299],\n",
       "         [ 0.6793, -1.3878],\n",
       "         [ 1.1960, -1.3210],\n",
       "         [ 0.6793, -1.3878],\n",
       "         [-0.5908,  0.8096],\n",
       "         [ 0.6793, -1.3878],\n",
       "         [ 1.1960, -1.3210],\n",
       "         [ 1.1542,  0.4299],\n",
       "         [-0.6814, -0.0943],\n",
       "         [ 0.6793, -1.3878],\n",
       "         [-0.6247,  1.1240],\n",
       "         [-0.5771, -0.2291],\n",
       "         [ 2.0226, -1.2506],\n",
       "         [ 2.0226, -1.2506],\n",
       "         [ 0.6793, -1.3878],\n",
       "         [ 1.1960, -1.3210],\n",
       "         [-0.6814, -0.0943],\n",
       "         [-1.2841,  1.7233],\n",
       "         [ 0.6852, -2.2540],\n",
       "         [-0.2732,  0.7326],\n",
       "         [ 1.1542,  0.4299],\n",
       "         [ 0.6793, -1.3878]]))"
      ]
     },
     "execution_count": 25,
     "metadata": {},
     "output_type": "execute_result"
    }
   ],
   "source": [
    "# Use torch.unbind to remove a tensor dimension\n",
    "torch.unbind(emb, 1)"
   ]
  },
  {
   "cell_type": "code",
   "execution_count": 26,
   "id": "6b10d838",
   "metadata": {},
   "outputs": [
    {
     "data": {
      "text/plain": [
       "torch.Size([32, 6])"
      ]
     },
     "execution_count": 26,
     "metadata": {},
     "output_type": "execute_result"
    }
   ],
   "source": [
    "# Note that the Pytorch concatenation creates a whole new tensor that uses new memory\n",
    "\n",
    "torch.cat(torch.unbind(emb, 1), 1).shape"
   ]
  },
  {
   "cell_type": "code",
   "execution_count": 27,
   "id": "7464a676",
   "metadata": {},
   "outputs": [
    {
     "data": {
      "text/plain": [
       "tensor([ 0,  1,  2,  3,  4,  5,  6,  7,  8,  9, 10, 11, 12, 13, 14, 15, 16, 17])"
      ]
     },
     "execution_count": 27,
     "metadata": {},
     "output_type": "execute_result"
    }
   ],
   "source": [
    "# Torch views are more efficient ways of concatenating the data\n",
    "a = torch.arange(18)\n",
    "a"
   ]
  },
  {
   "cell_type": "code",
   "execution_count": 28,
   "id": "12e6be5c",
   "metadata": {},
   "outputs": [
    {
     "data": {
      "text/plain": [
       "tensor([[ 0,  1,  2,  3,  4,  5,  6,  7,  8],\n",
       "        [ 9, 10, 11, 12, 13, 14, 15, 16, 17]])"
      ]
     },
     "execution_count": 28,
     "metadata": {},
     "output_type": "execute_result"
    }
   ],
   "source": [
    "# The above torch vector can be represented as different sized tensors\n",
    "a.view(2,9)"
   ]
  },
  {
   "cell_type": "code",
   "execution_count": 29,
   "id": "28a210a2",
   "metadata": {},
   "outputs": [
    {
     "data": {
      "text/plain": [
       "tensor([[[ 0,  1],\n",
       "         [ 2,  3],\n",
       "         [ 4,  5]],\n",
       "\n",
       "        [[ 6,  7],\n",
       "         [ 8,  9],\n",
       "         [10, 11]],\n",
       "\n",
       "        [[12, 13],\n",
       "         [14, 15],\n",
       "         [16, 17]]])"
      ]
     },
     "execution_count": 29,
     "metadata": {},
     "output_type": "execute_result"
    }
   ],
   "source": [
    "a.view(3,3,2)"
   ]
  },
  {
   "cell_type": "code",
   "execution_count": 31,
   "id": "c152793c",
   "metadata": {},
   "outputs": [
    {
     "data": {
      "text/plain": [
       " 0\n",
       " 1\n",
       " 2\n",
       " 3\n",
       " 4\n",
       " 5\n",
       " 6\n",
       " 7\n",
       " 8\n",
       " 9\n",
       " 10\n",
       " 11\n",
       " 12\n",
       " 13\n",
       " 14\n",
       " 15\n",
       " 16\n",
       " 17\n",
       "[torch.storage._TypedStorage(dtype=torch.int64, device=cpu) of size 18]"
      ]
     },
     "execution_count": 31,
     "metadata": {},
     "output_type": "execute_result"
    }
   ],
   "source": [
    "# Storage is always a 1-D vector in memory\n",
    "a.storage()\n",
    "\n",
    "# Reference: log.ezyang.com (PyTorch internals)"
   ]
  },
  {
   "cell_type": "code",
   "execution_count": 32,
   "id": "17cda81b",
   "metadata": {},
   "outputs": [
    {
     "data": {
      "text/plain": [
       "torch.Size([32, 3, 2])"
      ]
     },
     "execution_count": 32,
     "metadata": {},
     "output_type": "execute_result"
    }
   ],
   "source": [
    "emb.shape"
   ]
  },
  {
   "cell_type": "code",
   "execution_count": 33,
   "id": "9615e44b",
   "metadata": {},
   "outputs": [
    {
     "data": {
      "text/plain": [
       "tensor([[ 1.1960, -1.3210,  1.1960, -1.3210,  1.1960, -1.3210],\n",
       "        [ 1.1960, -1.3210,  1.1960, -1.3210, -0.5771, -0.2291],\n",
       "        [ 1.1960, -1.3210, -0.5771, -0.2291,  1.2075, -0.6821],\n",
       "        [-0.5771, -0.2291,  1.2075, -0.6821,  1.2075, -0.6821],\n",
       "        [ 1.2075, -0.6821,  1.2075, -0.6821,  0.6793, -1.3878],\n",
       "        [ 1.1960, -1.3210,  1.1960, -1.3210,  1.1960, -1.3210],\n",
       "        [ 1.1960, -1.3210,  1.1960, -1.3210, -1.2841,  1.7233],\n",
       "        [ 1.1960, -1.3210, -1.2841,  1.7233,  2.0226, -1.2506],\n",
       "        [-1.2841,  1.7233,  2.0226, -1.2506,  1.1542,  0.4299],\n",
       "        [ 2.0226, -1.2506,  1.1542,  0.4299, -0.5908,  0.8096],\n",
       "        [ 1.1542,  0.4299, -0.5908,  0.8096,  1.1542,  0.4299],\n",
       "        [-0.5908,  0.8096,  1.1542,  0.4299,  0.6793, -1.3878],\n",
       "        [ 1.1960, -1.3210,  1.1960, -1.3210,  1.1960, -1.3210],\n",
       "        [ 1.1960, -1.3210,  1.1960, -1.3210,  0.6793, -1.3878],\n",
       "        [ 1.1960, -1.3210,  0.6793, -1.3878, -0.5908,  0.8096],\n",
       "        [ 0.6793, -1.3878, -0.5908,  0.8096,  0.6793, -1.3878],\n",
       "        [ 1.1960, -1.3210,  1.1960, -1.3210,  1.1960, -1.3210],\n",
       "        [ 1.1960, -1.3210,  1.1960, -1.3210,  1.1542,  0.4299],\n",
       "        [ 1.1960, -1.3210,  1.1542,  0.4299, -0.6814, -0.0943],\n",
       "        [ 1.1542,  0.4299, -0.6814, -0.0943,  0.6793, -1.3878],\n",
       "        [-0.6814, -0.0943,  0.6793, -1.3878, -0.6247,  1.1240],\n",
       "        [ 0.6793, -1.3878, -0.6247,  1.1240, -0.5771, -0.2291],\n",
       "        [-0.6247,  1.1240, -0.5771, -0.2291,  2.0226, -1.2506],\n",
       "        [-0.5771, -0.2291,  2.0226, -1.2506,  2.0226, -1.2506],\n",
       "        [ 2.0226, -1.2506,  2.0226, -1.2506,  0.6793, -1.3878],\n",
       "        [ 1.1960, -1.3210,  1.1960, -1.3210,  1.1960, -1.3210],\n",
       "        [ 1.1960, -1.3210,  1.1960, -1.3210, -0.6814, -0.0943],\n",
       "        [ 1.1960, -1.3210, -0.6814, -0.0943, -1.2841,  1.7233],\n",
       "        [-0.6814, -0.0943, -1.2841,  1.7233,  0.6852, -2.2540],\n",
       "        [-1.2841,  1.7233,  0.6852, -2.2540, -0.2732,  0.7326],\n",
       "        [ 0.6852, -2.2540, -0.2732,  0.7326,  1.1542,  0.4299],\n",
       "        [-0.2732,  0.7326,  1.1542,  0.4299,  0.6793, -1.3878]])"
      ]
     },
     "execution_count": 33,
     "metadata": {},
     "output_type": "execute_result"
    }
   ],
   "source": [
    "emb.view(32,6)"
   ]
  },
  {
   "cell_type": "code",
   "execution_count": 34,
   "id": "db4effa5",
   "metadata": {},
   "outputs": [
    {
     "data": {
      "text/plain": [
       "tensor([[True, True, True, True, True, True],\n",
       "        [True, True, True, True, True, True],\n",
       "        [True, True, True, True, True, True],\n",
       "        [True, True, True, True, True, True],\n",
       "        [True, True, True, True, True, True],\n",
       "        [True, True, True, True, True, True],\n",
       "        [True, True, True, True, True, True],\n",
       "        [True, True, True, True, True, True],\n",
       "        [True, True, True, True, True, True],\n",
       "        [True, True, True, True, True, True],\n",
       "        [True, True, True, True, True, True],\n",
       "        [True, True, True, True, True, True],\n",
       "        [True, True, True, True, True, True],\n",
       "        [True, True, True, True, True, True],\n",
       "        [True, True, True, True, True, True],\n",
       "        [True, True, True, True, True, True],\n",
       "        [True, True, True, True, True, True],\n",
       "        [True, True, True, True, True, True],\n",
       "        [True, True, True, True, True, True],\n",
       "        [True, True, True, True, True, True],\n",
       "        [True, True, True, True, True, True],\n",
       "        [True, True, True, True, True, True],\n",
       "        [True, True, True, True, True, True],\n",
       "        [True, True, True, True, True, True],\n",
       "        [True, True, True, True, True, True],\n",
       "        [True, True, True, True, True, True],\n",
       "        [True, True, True, True, True, True],\n",
       "        [True, True, True, True, True, True],\n",
       "        [True, True, True, True, True, True],\n",
       "        [True, True, True, True, True, True],\n",
       "        [True, True, True, True, True, True],\n",
       "        [True, True, True, True, True, True]])"
      ]
     },
     "execution_count": 34,
     "metadata": {},
     "output_type": "execute_result"
    }
   ],
   "source": [
    "# Elementwise equality comparison\n",
    "emb.view(32,6) == torch.cat(torch.unbind(emb, 1), 1)"
   ]
  },
  {
   "cell_type": "code",
   "execution_count": 35,
   "id": "98d8f327",
   "metadata": {},
   "outputs": [],
   "source": [
    "# Back to the hidden layer\n",
    "\n",
    "# Note that the -1 is interpreted by Pytorch as the remaining number of elements\n",
    "h = torch.tanh(emb.view(-1, 6) @ W1 + b1)\n",
    "\n",
    "# Note that + b1 is using broadcasting.\n",
    "# (emb.view(-1, 6) @ W1).shape = torch.Size([32,100])\n",
    "# b1.shape = torch.Size([100])\n",
    "# Broadcasting will align from the right and create a fake dimension (32)\n",
    "# 32, 100\n",
    "# 1, 100"
   ]
  },
  {
   "cell_type": "code",
   "execution_count": 36,
   "id": "784b4ed4",
   "metadata": {},
   "outputs": [
    {
     "data": {
      "text/plain": [
       "tensor([[-0.8824, -0.9436, -0.9902,  ...,  0.9998, -0.8671,  0.5502],\n",
       "        [-0.9745,  0.4683,  0.3501,  ...,  0.7964,  0.8828,  0.9975],\n",
       "        [-0.8380, -0.2689, -0.9956,  ...,  0.9753, -0.9988, -0.9362],\n",
       "        ...,\n",
       "        [ 0.9512, -0.9699, -0.8260,  ..., -0.9998,  0.9580, -0.0167],\n",
       "        [-0.9100,  0.3560,  0.0192,  ..., -0.0477, -0.9796, -0.3332],\n",
       "        [-0.1659, -0.4239, -0.5958,  ...,  0.9731,  0.3468, -0.8914]])"
      ]
     },
     "execution_count": 36,
     "metadata": {},
     "output_type": "execute_result"
    }
   ],
   "source": [
    "h"
   ]
  },
  {
   "cell_type": "code",
   "execution_count": 37,
   "id": "c8a5c083",
   "metadata": {},
   "outputs": [
    {
     "data": {
      "text/plain": [
       "torch.Size([32, 100])"
      ]
     },
     "execution_count": 37,
     "metadata": {},
     "output_type": "execute_result"
    }
   ],
   "source": [
    "# Hidden layer activations for every one of our 32 examples\n",
    "h.shape"
   ]
  },
  {
   "cell_type": "code",
   "execution_count": 39,
   "id": "e7af2386",
   "metadata": {},
   "outputs": [],
   "source": [
    "# Create the output layer\n",
    "W2 = torch.randn((100,27))\n",
    "b2 = torch.randn(27)"
   ]
  },
  {
   "cell_type": "code",
   "execution_count": 40,
   "id": "e06e1671",
   "metadata": {},
   "outputs": [],
   "source": [
    "logits = h @ W2 + b2"
   ]
  },
  {
   "cell_type": "code",
   "execution_count": 41,
   "id": "364169c4",
   "metadata": {},
   "outputs": [
    {
     "data": {
      "text/plain": [
       "torch.Size([32, 27])"
      ]
     },
     "execution_count": 41,
     "metadata": {},
     "output_type": "execute_result"
    }
   ],
   "source": [
    "logits.shape"
   ]
  },
  {
   "cell_type": "code",
   "execution_count": 42,
   "id": "523e275d",
   "metadata": {},
   "outputs": [],
   "source": [
    "counts = logits.exp()"
   ]
  },
  {
   "cell_type": "code",
   "execution_count": 43,
   "id": "e266d8a8",
   "metadata": {},
   "outputs": [],
   "source": [
    "prob = counts / counts.sum(1, keepdims=True)"
   ]
  },
  {
   "cell_type": "code",
   "execution_count": 44,
   "id": "7de589ef",
   "metadata": {},
   "outputs": [
    {
     "data": {
      "text/plain": [
       "torch.Size([32, 27])"
      ]
     },
     "execution_count": 44,
     "metadata": {},
     "output_type": "execute_result"
    }
   ],
   "source": [
    "prob.shape"
   ]
  },
  {
   "cell_type": "code",
   "execution_count": 45,
   "id": "8a677aab",
   "metadata": {},
   "outputs": [
    {
     "data": {
      "text/plain": [
       "tensor([ 0,  1,  2,  3,  4,  5,  6,  7,  8,  9, 10, 11, 12, 13, 14, 15, 16, 17,\n",
       "        18, 19, 20, 21, 22, 23, 24, 25, 26, 27, 28, 29, 30, 31])"
      ]
     },
     "execution_count": 45,
     "metadata": {},
     "output_type": "execute_result"
    }
   ],
   "source": [
    "torch.arange(32)"
   ]
  },
  {
   "cell_type": "code",
   "execution_count": 46,
   "id": "0b008e10",
   "metadata": {},
   "outputs": [
    {
     "data": {
      "text/plain": [
       "tensor([ 5, 13, 13,  1,  0, 15, 12,  9, 22,  9,  1,  0,  1, 22,  1,  0,  9, 19,\n",
       "         1,  2,  5, 12, 12,  1,  0, 19, 15, 16,  8,  9,  1,  0])"
      ]
     },
     "execution_count": 46,
     "metadata": {},
     "output_type": "execute_result"
    }
   ],
   "source": [
    "Y"
   ]
  },
  {
   "cell_type": "code",
   "execution_count": 47,
   "id": "9456edba",
   "metadata": {},
   "outputs": [
    {
     "data": {
      "text/plain": [
       "tensor([5.4865e-07, 1.7293e-09, 3.2944e-06, 9.5399e-09, 5.5139e-09, 5.5676e-10,\n",
       "        1.1106e-12, 5.9247e-07, 6.0100e-07, 6.0706e-12, 7.5055e-05, 4.4485e-10,\n",
       "        1.6402e-09, 5.9678e-15, 1.0081e-12, 7.4332e-17, 1.3846e-14, 7.3601e-12,\n",
       "        6.1881e-15, 1.5773e-09, 3.3201e-10, 1.5053e-03, 1.9106e-04, 8.6259e-09,\n",
       "        3.7251e-09, 2.4509e-08, 3.5941e-15, 9.7709e-01, 1.3646e-03, 1.5575e-06,\n",
       "        6.8454e-10, 1.1420e-08])"
      ]
     },
     "execution_count": 47,
     "metadata": {},
     "output_type": "execute_result"
    }
   ],
   "source": [
    "# Extract the probabilities of the expected output (Y)\n",
    "prob[torch.arange(32), Y]"
   ]
  },
  {
   "cell_type": "code",
   "execution_count": 48,
   "id": "b61bcfda",
   "metadata": {},
   "outputs": [
    {
     "data": {
      "text/plain": [
       "tensor(19.7612)"
      ]
     },
     "execution_count": 48,
     "metadata": {},
     "output_type": "execute_result"
    }
   ],
   "source": [
    "loss = -prob[torch.arange(32), Y].log().mean()\n",
    "loss"
   ]
  },
  {
   "cell_type": "code",
   "execution_count": null,
   "id": "4bf557f6",
   "metadata": {},
   "outputs": [],
   "source": [
    "# Putting it all together"
   ]
  },
  {
   "cell_type": "code",
   "execution_count": 49,
   "id": "62094bd4",
   "metadata": {},
   "outputs": [
    {
     "data": {
      "text/plain": [
       "(torch.Size([32, 3]), torch.Size([32]))"
      ]
     },
     "execution_count": 49,
     "metadata": {},
     "output_type": "execute_result"
    }
   ],
   "source": [
    "X.shape, Y.shape"
   ]
  },
  {
   "cell_type": "code",
   "execution_count": 50,
   "id": "d91a91cf",
   "metadata": {},
   "outputs": [],
   "source": [
    "g = torch.Generator().manual_seed(2147483647)\n",
    "C = torch.randn((27,2), generator=g)\n",
    "W1 = torch.randn((6, 100), generator=g)\n",
    "b1 = torch.randn(100, generator=g)\n",
    "W2 = torch.randn((100,27), generator=g)\n",
    "b2 = torch.randn(27, generator=g)\n",
    "parameters = [C, W1, b1, W2, b2]"
   ]
  },
  {
   "cell_type": "code",
   "execution_count": 51,
   "id": "8eb95f9e",
   "metadata": {},
   "outputs": [
    {
     "data": {
      "text/plain": [
       "3481"
      ]
     },
     "execution_count": 51,
     "metadata": {},
     "output_type": "execute_result"
    }
   ],
   "source": [
    "sum(p.nelement() for p in parameters) # Total number of parameters in the network"
   ]
  },
  {
   "cell_type": "code",
   "execution_count": 52,
   "id": "74d680d8",
   "metadata": {},
   "outputs": [
    {
     "data": {
      "text/plain": [
       "tensor(17.7697)"
      ]
     },
     "execution_count": 52,
     "metadata": {},
     "output_type": "execute_result"
    }
   ],
   "source": [
    "emb = C[X] #(32, 3,2)\n",
    "h = torch.tanh(emb.view(-1,6) @ W1 + b1) # (32, 100)\n",
    "logits = h @ W2 + b2 # (32, 27)\n",
    "counts = logits.exp()\n",
    "prob = counts / counts.sum(1, keepdims=True)\n",
    "loss = -prob[torch.arange(32), Y].log().mean()\n",
    "loss"
   ]
  },
  {
   "cell_type": "code",
   "execution_count": 53,
   "id": "bdb9b35d",
   "metadata": {},
   "outputs": [
    {
     "data": {
      "text/plain": [
       "tensor(17.7697)"
      ]
     },
     "execution_count": 53,
     "metadata": {},
     "output_type": "execute_result"
    }
   ],
   "source": [
    "# The loss calculation is encapsulated in the Functional.cross_entropy function\n",
    "# We get the exact same loss as above\n",
    "F.cross_entropy(logits,Y)"
   ]
  },
  {
   "cell_type": "code",
   "execution_count": 55,
   "id": "892d9f92",
   "metadata": {},
   "outputs": [
    {
     "data": {
      "text/plain": [
       "tensor([9.0466e-04, 3.3281e-04, 6.6846e-03, 9.9208e-01])"
      ]
     },
     "execution_count": 55,
     "metadata": {},
     "output_type": "execute_result"
    }
   ],
   "source": [
    "# F.cross_entropy is more computationally efficient as it doesn't create new intermediate tensors\n",
    "# F.cross_entropy is numerically well behaved.\n",
    "logits = torch.tensor([-2, -3, 0, 5])\n",
    "counts = logits.exp()\n",
    "probs = counts / counts.sum()\n",
    "probs"
   ]
  },
  {
   "cell_type": "code",
   "execution_count": 56,
   "id": "ff475a31",
   "metadata": {},
   "outputs": [
    {
     "data": {
      "text/plain": [
       "tensor([0., 0., 0., nan])"
      ]
     },
     "execution_count": 56,
     "metadata": {},
     "output_type": "execute_result"
    }
   ],
   "source": [
    "# Large positive numbers can result in out of range (or NaN)\n",
    "logits = torch.tensor([-100, -3, 0, 100])\n",
    "counts = logits.exp()\n",
    "probs = counts / counts.sum()\n",
    "probs"
   ]
  },
  {
   "cell_type": "code",
   "execution_count": null,
   "id": "24ce1925",
   "metadata": {},
   "outputs": [],
   "source": [
    "# Cross Entropy calculation subtracts the largest positive number to keep the numeric calculation well behaved."
   ]
  },
  {
   "cell_type": "code",
   "execution_count": 57,
   "id": "287ea5dc",
   "metadata": {},
   "outputs": [
    {
     "data": {
      "text/plain": [
       "tensor([4.5079e-05, 3.3309e-04, 6.6903e-03, 9.9293e-01])"
      ]
     },
     "execution_count": 57,
     "metadata": {},
     "output_type": "execute_result"
    }
   ],
   "source": [
    "logits = torch.tensor([-5, -3, 0, 5])\n",
    "counts = logits.exp()\n",
    "probs = counts / counts.sum()\n",
    "probs"
   ]
  },
  {
   "cell_type": "code",
   "execution_count": null,
   "id": "e3d26a20",
   "metadata": {},
   "outputs": [],
   "source": [
    "# Subtract the largest positive number"
   ]
  },
  {
   "cell_type": "code",
   "execution_count": 58,
   "id": "fdc6dfd3",
   "metadata": {},
   "outputs": [
    {
     "data": {
      "text/plain": [
       "tensor([4.5079e-05, 3.3309e-04, 6.6903e-03, 9.9293e-01])"
      ]
     },
     "execution_count": 58,
     "metadata": {},
     "output_type": "execute_result"
    }
   ],
   "source": [
    "# The result is the same\n",
    "logits = torch.tensor([-5, -3, 0, 5]) - 5\n",
    "counts = logits.exp()\n",
    "probs = counts / counts.sum()\n",
    "probs"
   ]
  },
  {
   "cell_type": "code",
   "execution_count": 59,
   "id": "7387a1a8",
   "metadata": {},
   "outputs": [],
   "source": [
    "for p in parameters:\n",
    "    p.requires_grad = True"
   ]
  },
  {
   "cell_type": "code",
   "execution_count": 62,
   "id": "859221a1",
   "metadata": {},
   "outputs": [
    {
     "name": "stdout",
     "output_type": "stream",
     "text": [
      "0.25560152530670166\n"
     ]
    }
   ],
   "source": [
    "# Set up training of the neural network\n",
    "# Learning rate eta\n",
    "eta = 0.1\n",
    "\n",
    "for _ in range(100):\n",
    "\n",
    "    # Forward pass\n",
    "    emb = C[X] #(32, 3,2)\n",
    "    h = torch.tanh(emb.view(-1,6) @ W1 + b1) # (32, 100)\n",
    "    logits = h @ W2 + b2 # (32, 27)\n",
    "    loss = F.cross_entropy(logits, Y)\n",
    "    # print(loss.item())\n",
    "    \n",
    "    # Backward pass\n",
    "    for p in parameters:\n",
    "        p.grad = None\n",
    "    loss.backward()\n",
    "\n",
    "    # Parameter update\n",
    "    for p in parameters:\n",
    "        p.data += -eta * p.grad\n",
    "\n",
    "print(loss.item())\n"
   ]
  },
  {
   "cell_type": "code",
   "execution_count": 63,
   "id": "48ce8750",
   "metadata": {},
   "outputs": [
    {
     "data": {
      "text/plain": [
       "torch.return_types.max(\n",
       "values=tensor([13.4138, 17.9647, 20.6772, 20.7265, 16.8572, 13.4138, 16.1148, 14.2719,\n",
       "        16.0143, 18.5009, 16.0740, 21.0530, 13.4138, 17.2576, 17.2659, 20.2015,\n",
       "        13.4138, 16.7051, 15.2578, 17.2019, 18.6944, 16.1059, 10.9961, 10.7945,\n",
       "        15.5882, 13.4138, 16.2896, 17.0883, 12.8242, 16.2912, 19.2261, 16.1884],\n",
       "       grad_fn=<MaxBackward0>),\n",
       "indices=tensor([19, 13, 13,  1,  0, 19, 12,  9, 22,  9,  1,  0, 19, 22,  1,  0, 19, 19,\n",
       "         1,  2,  5, 12, 12,  1,  0, 19, 15, 16,  8,  9,  1,  0]))"
      ]
     },
     "execution_count": 63,
     "metadata": {},
     "output_type": "execute_result"
    }
   ],
   "source": [
    "# Print the max of logits along the first dimension\n",
    "# Pytorch prints the max values and also the indices that can be compared with Y\n",
    "logits.max(1)"
   ]
  },
  {
   "cell_type": "code",
   "execution_count": 64,
   "id": "ebe4962e",
   "metadata": {},
   "outputs": [
    {
     "data": {
      "text/plain": [
       "tensor([ 5, 13, 13,  1,  0, 15, 12,  9, 22,  9,  1,  0,  1, 22,  1,  0,  9, 19,\n",
       "         1,  2,  5, 12, 12,  1,  0, 19, 15, 16,  8,  9,  1,  0])"
      ]
     },
     "execution_count": 64,
     "metadata": {},
     "output_type": "execute_result"
    }
   ],
   "source": [
    "Y"
   ]
  },
  {
   "cell_type": "code",
   "execution_count": 83,
   "id": "65a580b6",
   "metadata": {},
   "outputs": [],
   "source": [
    "# Read the full data set and optimize the neural network\n",
    "\n",
    "# Build the dataset\n",
    "\n",
    "block_size = 3     # Context Length: How many previous characters do we use to predict the next one?\n",
    "X, Y = [], []\n",
    "for w in words:\n",
    "    # print(w)\n",
    "    context = [0] * block_size\n",
    "    for ch in w + '.':\n",
    "        idx = stoi[ch]\n",
    "        X.append(context)\n",
    "        Y.append(idx)\n",
    "        # print(''.join(itos[i] for i in context), '----->', itos[idx])\n",
    "        context = context[1:] + [idx]     # Crop and append\n",
    "\n",
    "X = torch.tensor(X)\n",
    "Y = torch.tensor(Y)"
   ]
  },
  {
   "cell_type": "code",
   "execution_count": 84,
   "id": "f814d4ca",
   "metadata": {},
   "outputs": [
    {
     "data": {
      "text/plain": [
       "(torch.Size([228146, 3]), torch.Size([228146]))"
      ]
     },
     "execution_count": 84,
     "metadata": {},
     "output_type": "execute_result"
    }
   ],
   "source": [
    "X.shape, Y.shape"
   ]
  },
  {
   "cell_type": "code",
   "execution_count": 89,
   "id": "e7365777",
   "metadata": {},
   "outputs": [],
   "source": [
    "# Intialize the network\n",
    "g = torch.Generator().manual_seed(2147483647)\n",
    "C = torch.randn((27,2), generator=g)\n",
    "W1 = torch.randn((6, 100), generator=g)\n",
    "b1 = torch.randn(100, generator=g)\n",
    "W2 = torch.randn((100,27), generator=g)\n",
    "b2 = torch.randn(27, generator=g)\n",
    "parameters = [C, W1, b1, W2, b2]"
   ]
  },
  {
   "cell_type": "code",
   "execution_count": 90,
   "id": "f9f2dea8",
   "metadata": {},
   "outputs": [
    {
     "data": {
      "text/plain": [
       "3481"
      ]
     },
     "execution_count": 90,
     "metadata": {},
     "output_type": "execute_result"
    }
   ],
   "source": [
    "sum(p.nelement() for p in parameters)"
   ]
  },
  {
   "cell_type": "code",
   "execution_count": 91,
   "id": "d44d9ca6",
   "metadata": {},
   "outputs": [],
   "source": [
    "for p in parameters:\n",
    "    p.requires_grad = True"
   ]
  },
  {
   "cell_type": "code",
   "execution_count": 71,
   "id": "79dd27c9",
   "metadata": {},
   "outputs": [
    {
     "name": "stdout",
     "output_type": "stream",
     "text": [
      "10.709587097167969\n",
      "10.407631874084473\n",
      "10.127808570861816\n",
      "9.864364624023438\n",
      "9.614501953125\n",
      "9.376439094543457\n",
      "9.148944854736328\n",
      "8.931110382080078\n",
      "8.722230911254883\n",
      "8.521749496459961\n"
     ]
    }
   ],
   "source": [
    "# Set up training of the neural network\n",
    "# Learning rate eta\n",
    "eta = 0.1\n",
    "\n",
    "for _ in range(10):\n",
    "\n",
    "    # Forward pass\n",
    "    emb = C[X] #(228146, 3,2)\n",
    "    h = torch.tanh(emb.view(-1,6) @ W1 + b1) # (32, 100)\n",
    "    logits = h @ W2 + b2 # (32, 27)\n",
    "    loss = F.cross_entropy(logits, Y)\n",
    "    print(loss.item())\n",
    "    \n",
    "    # Backward pass\n",
    "    for p in parameters:\n",
    "        p.grad = None\n",
    "    loss.backward()\n",
    "\n",
    "    # Parameter update\n",
    "    for p in parameters:\n",
    "        p.data += -eta * p.grad\n",
    "\n",
    "# print(loss.item())"
   ]
  },
  {
   "cell_type": "code",
   "execution_count": 74,
   "id": "3867d158",
   "metadata": {},
   "outputs": [
    {
     "data": {
      "text/plain": [
       "tensor([ 46329,  45448,  76040, 110853, 184071,  99147, 145450, 105784, 156240,\n",
       "         40849, 195380, 228129, 182621, 118037,  57119, 176396, 161568,  32745,\n",
       "           307,  12633,  15417,  75044, 177368, 125289, 213544, 194014,  70736,\n",
       "         84005, 212725,   5563, 118462, 100756])"
      ]
     },
     "execution_count": 74,
     "metadata": {},
     "output_type": "execute_result"
    }
   ],
   "source": [
    "# The above network reduces the loss but much too slowly\n",
    "# Instead of performing forward and backward passes on the entire training set, randomly select mini-batches.\n",
    "\n",
    "# Mini-batch size = 32\n",
    "torch.randint(0, X.shape[0], (32,))"
   ]
  },
  {
   "cell_type": "code",
   "execution_count": 80,
   "id": "323e53c2",
   "metadata": {},
   "outputs": [
    {
     "name": "stdout",
     "output_type": "stream",
     "text": [
      "2.6868302822113037\n"
     ]
    }
   ],
   "source": [
    "# Set up training of the neural network\n",
    "# Learning rate eta\n",
    "eta = 0.1\n",
    "\n",
    "for _ in range(1000):\n",
    "    \n",
    "    # Construct minibatch\n",
    "    idx = torch.randint(0, X.shape[0], (32,))\n",
    "\n",
    "    # Forward pass\n",
    "    emb = C[X[idx]] #(32, 3,2)\n",
    "    h = torch.tanh(emb.view(-1,6) @ W1 + b1) # (32, 100)\n",
    "    logits = h @ W2 + b2 # (32, 27)\n",
    "    loss = F.cross_entropy(logits, Y[idx])\n",
    "    #print(loss.item())\n",
    "    \n",
    "    # Backward pass\n",
    "    for p in parameters:\n",
    "        p.grad = None\n",
    "    loss.backward()\n",
    "\n",
    "    # Parameter update\n",
    "    for p in parameters:\n",
    "        p.data += -eta * p.grad\n",
    "\n",
    "print(loss.item())"
   ]
  },
  {
   "cell_type": "code",
   "execution_count": 81,
   "id": "2bc6e1a0",
   "metadata": {},
   "outputs": [
    {
     "name": "stdout",
     "output_type": "stream",
     "text": [
      "2.628147602081299\n"
     ]
    }
   ],
   "source": [
    "# Calculate the loss for the entire dataset\n",
    "emb = C[X] #(32, 3,2)\n",
    "h = torch.tanh(emb.view(-1,6) @ W1 + b1) # (32, 100)\n",
    "logits = h @ W2 + b2 # (32, 27)\n",
    "loss = F.cross_entropy(logits, Y)\n",
    "print(loss.item())"
   ]
  },
  {
   "cell_type": "code",
   "execution_count": 82,
   "id": "b211fc1d",
   "metadata": {},
   "outputs": [
    {
     "data": {
      "text/plain": [
       "tensor([0.0010, 0.0010, 0.0010, 0.0010, 0.0010, 0.0010, 0.0010, 0.0010, 0.0011,\n",
       "        0.0011, 0.0011, 0.0011, 0.0011, 0.0011, 0.0011, 0.0011, 0.0011, 0.0011,\n",
       "        0.0011, 0.0011, 0.0011, 0.0012, 0.0012, 0.0012, 0.0012, 0.0012, 0.0012,\n",
       "        0.0012, 0.0012, 0.0012, 0.0012, 0.0012, 0.0012, 0.0013, 0.0013, 0.0013,\n",
       "        0.0013, 0.0013, 0.0013, 0.0013, 0.0013, 0.0013, 0.0013, 0.0013, 0.0014,\n",
       "        0.0014, 0.0014, 0.0014, 0.0014, 0.0014, 0.0014, 0.0014, 0.0014, 0.0014,\n",
       "        0.0015, 0.0015, 0.0015, 0.0015, 0.0015, 0.0015, 0.0015, 0.0015, 0.0015,\n",
       "        0.0015, 0.0016, 0.0016, 0.0016, 0.0016, 0.0016, 0.0016, 0.0016, 0.0016,\n",
       "        0.0016, 0.0017, 0.0017, 0.0017, 0.0017, 0.0017, 0.0017, 0.0017, 0.0017,\n",
       "        0.0018, 0.0018, 0.0018, 0.0018, 0.0018, 0.0018, 0.0018, 0.0018, 0.0019,\n",
       "        0.0019, 0.0019, 0.0019, 0.0019, 0.0019, 0.0019, 0.0019, 0.0020, 0.0020,\n",
       "        0.0020, 0.0020, 0.0020, 0.0020, 0.0020, 0.0021, 0.0021, 0.0021, 0.0021,\n",
       "        0.0021, 0.0021, 0.0021, 0.0022, 0.0022, 0.0022, 0.0022, 0.0022, 0.0022,\n",
       "        0.0022, 0.0023, 0.0023, 0.0023, 0.0023, 0.0023, 0.0023, 0.0024, 0.0024,\n",
       "        0.0024, 0.0024, 0.0024, 0.0024, 0.0025, 0.0025, 0.0025, 0.0025, 0.0025,\n",
       "        0.0025, 0.0026, 0.0026, 0.0026, 0.0026, 0.0026, 0.0027, 0.0027, 0.0027,\n",
       "        0.0027, 0.0027, 0.0027, 0.0028, 0.0028, 0.0028, 0.0028, 0.0028, 0.0029,\n",
       "        0.0029, 0.0029, 0.0029, 0.0029, 0.0030, 0.0030, 0.0030, 0.0030, 0.0030,\n",
       "        0.0031, 0.0031, 0.0031, 0.0031, 0.0032, 0.0032, 0.0032, 0.0032, 0.0032,\n",
       "        0.0033, 0.0033, 0.0033, 0.0033, 0.0034, 0.0034, 0.0034, 0.0034, 0.0034,\n",
       "        0.0035, 0.0035, 0.0035, 0.0035, 0.0036, 0.0036, 0.0036, 0.0036, 0.0037,\n",
       "        0.0037, 0.0037, 0.0037, 0.0038, 0.0038, 0.0038, 0.0039, 0.0039, 0.0039,\n",
       "        0.0039, 0.0040, 0.0040, 0.0040, 0.0040, 0.0041, 0.0041, 0.0041, 0.0042,\n",
       "        0.0042, 0.0042, 0.0042, 0.0043, 0.0043, 0.0043, 0.0044, 0.0044, 0.0044,\n",
       "        0.0045, 0.0045, 0.0045, 0.0045, 0.0046, 0.0046, 0.0046, 0.0047, 0.0047,\n",
       "        0.0047, 0.0048, 0.0048, 0.0048, 0.0049, 0.0049, 0.0049, 0.0050, 0.0050,\n",
       "        0.0050, 0.0051, 0.0051, 0.0051, 0.0052, 0.0052, 0.0053, 0.0053, 0.0053,\n",
       "        0.0054, 0.0054, 0.0054, 0.0055, 0.0055, 0.0056, 0.0056, 0.0056, 0.0057,\n",
       "        0.0057, 0.0058, 0.0058, 0.0058, 0.0059, 0.0059, 0.0060, 0.0060, 0.0060,\n",
       "        0.0061, 0.0061, 0.0062, 0.0062, 0.0062, 0.0063, 0.0063, 0.0064, 0.0064,\n",
       "        0.0065, 0.0065, 0.0066, 0.0066, 0.0067, 0.0067, 0.0067, 0.0068, 0.0068,\n",
       "        0.0069, 0.0069, 0.0070, 0.0070, 0.0071, 0.0071, 0.0072, 0.0072, 0.0073,\n",
       "        0.0073, 0.0074, 0.0074, 0.0075, 0.0075, 0.0076, 0.0076, 0.0077, 0.0077,\n",
       "        0.0078, 0.0079, 0.0079, 0.0080, 0.0080, 0.0081, 0.0081, 0.0082, 0.0082,\n",
       "        0.0083, 0.0084, 0.0084, 0.0085, 0.0085, 0.0086, 0.0086, 0.0087, 0.0088,\n",
       "        0.0088, 0.0089, 0.0090, 0.0090, 0.0091, 0.0091, 0.0092, 0.0093, 0.0093,\n",
       "        0.0094, 0.0095, 0.0095, 0.0096, 0.0097, 0.0097, 0.0098, 0.0099, 0.0099,\n",
       "        0.0100, 0.0101, 0.0101, 0.0102, 0.0103, 0.0104, 0.0104, 0.0105, 0.0106,\n",
       "        0.0106, 0.0107, 0.0108, 0.0109, 0.0109, 0.0110, 0.0111, 0.0112, 0.0112,\n",
       "        0.0113, 0.0114, 0.0115, 0.0116, 0.0116, 0.0117, 0.0118, 0.0119, 0.0120,\n",
       "        0.0121, 0.0121, 0.0122, 0.0123, 0.0124, 0.0125, 0.0126, 0.0127, 0.0127,\n",
       "        0.0128, 0.0129, 0.0130, 0.0131, 0.0132, 0.0133, 0.0134, 0.0135, 0.0136,\n",
       "        0.0137, 0.0137, 0.0138, 0.0139, 0.0140, 0.0141, 0.0142, 0.0143, 0.0144,\n",
       "        0.0145, 0.0146, 0.0147, 0.0148, 0.0149, 0.0150, 0.0151, 0.0152, 0.0154,\n",
       "        0.0155, 0.0156, 0.0157, 0.0158, 0.0159, 0.0160, 0.0161, 0.0162, 0.0163,\n",
       "        0.0165, 0.0166, 0.0167, 0.0168, 0.0169, 0.0170, 0.0171, 0.0173, 0.0174,\n",
       "        0.0175, 0.0176, 0.0178, 0.0179, 0.0180, 0.0181, 0.0182, 0.0184, 0.0185,\n",
       "        0.0186, 0.0188, 0.0189, 0.0190, 0.0192, 0.0193, 0.0194, 0.0196, 0.0197,\n",
       "        0.0198, 0.0200, 0.0201, 0.0202, 0.0204, 0.0205, 0.0207, 0.0208, 0.0210,\n",
       "        0.0211, 0.0212, 0.0214, 0.0215, 0.0217, 0.0218, 0.0220, 0.0221, 0.0223,\n",
       "        0.0225, 0.0226, 0.0228, 0.0229, 0.0231, 0.0232, 0.0234, 0.0236, 0.0237,\n",
       "        0.0239, 0.0241, 0.0242, 0.0244, 0.0246, 0.0247, 0.0249, 0.0251, 0.0253,\n",
       "        0.0254, 0.0256, 0.0258, 0.0260, 0.0261, 0.0263, 0.0265, 0.0267, 0.0269,\n",
       "        0.0271, 0.0273, 0.0274, 0.0276, 0.0278, 0.0280, 0.0282, 0.0284, 0.0286,\n",
       "        0.0288, 0.0290, 0.0292, 0.0294, 0.0296, 0.0298, 0.0300, 0.0302, 0.0304,\n",
       "        0.0307, 0.0309, 0.0311, 0.0313, 0.0315, 0.0317, 0.0320, 0.0322, 0.0324,\n",
       "        0.0326, 0.0328, 0.0331, 0.0333, 0.0335, 0.0338, 0.0340, 0.0342, 0.0345,\n",
       "        0.0347, 0.0350, 0.0352, 0.0354, 0.0357, 0.0359, 0.0362, 0.0364, 0.0367,\n",
       "        0.0369, 0.0372, 0.0375, 0.0377, 0.0380, 0.0382, 0.0385, 0.0388, 0.0390,\n",
       "        0.0393, 0.0396, 0.0399, 0.0401, 0.0404, 0.0407, 0.0410, 0.0413, 0.0416,\n",
       "        0.0418, 0.0421, 0.0424, 0.0427, 0.0430, 0.0433, 0.0436, 0.0439, 0.0442,\n",
       "        0.0445, 0.0448, 0.0451, 0.0455, 0.0458, 0.0461, 0.0464, 0.0467, 0.0471,\n",
       "        0.0474, 0.0477, 0.0480, 0.0484, 0.0487, 0.0491, 0.0494, 0.0497, 0.0501,\n",
       "        0.0504, 0.0508, 0.0511, 0.0515, 0.0518, 0.0522, 0.0526, 0.0529, 0.0533,\n",
       "        0.0537, 0.0540, 0.0544, 0.0548, 0.0552, 0.0556, 0.0559, 0.0563, 0.0567,\n",
       "        0.0571, 0.0575, 0.0579, 0.0583, 0.0587, 0.0591, 0.0595, 0.0599, 0.0604,\n",
       "        0.0608, 0.0612, 0.0616, 0.0621, 0.0625, 0.0629, 0.0634, 0.0638, 0.0642,\n",
       "        0.0647, 0.0651, 0.0656, 0.0660, 0.0665, 0.0670, 0.0674, 0.0679, 0.0684,\n",
       "        0.0688, 0.0693, 0.0698, 0.0703, 0.0708, 0.0713, 0.0718, 0.0723, 0.0728,\n",
       "        0.0733, 0.0738, 0.0743, 0.0748, 0.0753, 0.0758, 0.0764, 0.0769, 0.0774,\n",
       "        0.0780, 0.0785, 0.0790, 0.0796, 0.0802, 0.0807, 0.0813, 0.0818, 0.0824,\n",
       "        0.0830, 0.0835, 0.0841, 0.0847, 0.0853, 0.0859, 0.0865, 0.0871, 0.0877,\n",
       "        0.0883, 0.0889, 0.0895, 0.0901, 0.0908, 0.0914, 0.0920, 0.0927, 0.0933,\n",
       "        0.0940, 0.0946, 0.0953, 0.0959, 0.0966, 0.0973, 0.0979, 0.0986, 0.0993,\n",
       "        0.1000, 0.1007, 0.1014, 0.1021, 0.1028, 0.1035, 0.1042, 0.1050, 0.1057,\n",
       "        0.1064, 0.1072, 0.1079, 0.1087, 0.1094, 0.1102, 0.1109, 0.1117, 0.1125,\n",
       "        0.1133, 0.1140, 0.1148, 0.1156, 0.1164, 0.1172, 0.1181, 0.1189, 0.1197,\n",
       "        0.1205, 0.1214, 0.1222, 0.1231, 0.1239, 0.1248, 0.1256, 0.1265, 0.1274,\n",
       "        0.1283, 0.1292, 0.1301, 0.1310, 0.1319, 0.1328, 0.1337, 0.1346, 0.1356,\n",
       "        0.1365, 0.1374, 0.1384, 0.1394, 0.1403, 0.1413, 0.1423, 0.1433, 0.1443,\n",
       "        0.1453, 0.1463, 0.1473, 0.1483, 0.1493, 0.1504, 0.1514, 0.1525, 0.1535,\n",
       "        0.1546, 0.1557, 0.1567, 0.1578, 0.1589, 0.1600, 0.1611, 0.1623, 0.1634,\n",
       "        0.1645, 0.1657, 0.1668, 0.1680, 0.1691, 0.1703, 0.1715, 0.1727, 0.1739,\n",
       "        0.1751, 0.1763, 0.1775, 0.1788, 0.1800, 0.1812, 0.1825, 0.1838, 0.1850,\n",
       "        0.1863, 0.1876, 0.1889, 0.1902, 0.1916, 0.1929, 0.1942, 0.1956, 0.1969,\n",
       "        0.1983, 0.1997, 0.2010, 0.2024, 0.2038, 0.2053, 0.2067, 0.2081, 0.2096,\n",
       "        0.2110, 0.2125, 0.2140, 0.2154, 0.2169, 0.2184, 0.2200, 0.2215, 0.2230,\n",
       "        0.2246, 0.2261, 0.2277, 0.2293, 0.2309, 0.2325, 0.2341, 0.2357, 0.2373,\n",
       "        0.2390, 0.2406, 0.2423, 0.2440, 0.2457, 0.2474, 0.2491, 0.2508, 0.2526,\n",
       "        0.2543, 0.2561, 0.2579, 0.2597, 0.2615, 0.2633, 0.2651, 0.2669, 0.2688,\n",
       "        0.2707, 0.2725, 0.2744, 0.2763, 0.2783, 0.2802, 0.2821, 0.2841, 0.2861,\n",
       "        0.2880, 0.2900, 0.2921, 0.2941, 0.2961, 0.2982, 0.3002, 0.3023, 0.3044,\n",
       "        0.3065, 0.3087, 0.3108, 0.3130, 0.3151, 0.3173, 0.3195, 0.3217, 0.3240,\n",
       "        0.3262, 0.3285, 0.3308, 0.3331, 0.3354, 0.3377, 0.3400, 0.3424, 0.3448,\n",
       "        0.3472, 0.3496, 0.3520, 0.3544, 0.3569, 0.3594, 0.3619, 0.3644, 0.3669,\n",
       "        0.3695, 0.3720, 0.3746, 0.3772, 0.3798, 0.3825, 0.3851, 0.3878, 0.3905,\n",
       "        0.3932, 0.3959, 0.3987, 0.4014, 0.4042, 0.4070, 0.4098, 0.4127, 0.4155,\n",
       "        0.4184, 0.4213, 0.4243, 0.4272, 0.4302, 0.4331, 0.4362, 0.4392, 0.4422,\n",
       "        0.4453, 0.4484, 0.4515, 0.4546, 0.4578, 0.4610, 0.4642, 0.4674, 0.4706,\n",
       "        0.4739, 0.4772, 0.4805, 0.4838, 0.4872, 0.4906, 0.4940, 0.4974, 0.5008,\n",
       "        0.5043, 0.5078, 0.5113, 0.5149, 0.5185, 0.5221, 0.5257, 0.5293, 0.5330,\n",
       "        0.5367, 0.5404, 0.5442, 0.5479, 0.5517, 0.5556, 0.5594, 0.5633, 0.5672,\n",
       "        0.5712, 0.5751, 0.5791, 0.5831, 0.5872, 0.5913, 0.5954, 0.5995, 0.6036,\n",
       "        0.6078, 0.6120, 0.6163, 0.6206, 0.6249, 0.6292, 0.6336, 0.6380, 0.6424,\n",
       "        0.6469, 0.6513, 0.6559, 0.6604, 0.6650, 0.6696, 0.6743, 0.6789, 0.6837,\n",
       "        0.6884, 0.6932, 0.6980, 0.7028, 0.7077, 0.7126, 0.7176, 0.7225, 0.7275,\n",
       "        0.7326, 0.7377, 0.7428, 0.7480, 0.7531, 0.7584, 0.7636, 0.7689, 0.7743,\n",
       "        0.7796, 0.7850, 0.7905, 0.7960, 0.8015, 0.8071, 0.8127, 0.8183, 0.8240,\n",
       "        0.8297, 0.8355, 0.8412, 0.8471, 0.8530, 0.8589, 0.8648, 0.8708, 0.8769,\n",
       "        0.8830, 0.8891, 0.8953, 0.9015, 0.9077, 0.9140, 0.9204, 0.9268, 0.9332,\n",
       "        0.9397, 0.9462, 0.9528, 0.9594, 0.9660, 0.9727, 0.9795, 0.9863, 0.9931,\n",
       "        1.0000])"
      ]
     },
     "execution_count": 82,
     "metadata": {},
     "output_type": "execute_result"
    }
   ],
   "source": [
    "# Experimenting with the learning rate\n",
    "# Change the learning rate from 0.001 to 1 during training\n",
    "\n",
    "lre = torch.linspace(-3, 0, 1000)\n",
    "lrs = 10**lre\n",
    "lrs"
   ]
  },
  {
   "cell_type": "code",
   "execution_count": 92,
   "id": "78ccbcd3",
   "metadata": {},
   "outputs": [
    {
     "name": "stdout",
     "output_type": "stream",
     "text": [
      "7.376246452331543\n"
     ]
    }
   ],
   "source": [
    "# Set up training of the neural network\n",
    "lri = []\n",
    "lossi = []\n",
    "\n",
    "for i in range(1000):\n",
    "    \n",
    "    # Construct minibatch\n",
    "    idx = torch.randint(0, X.shape[0], (32,))\n",
    "\n",
    "    # Forward pass\n",
    "    emb = C[X[idx]] #(32, 3,2)\n",
    "    h = torch.tanh(emb.view(-1,6) @ W1 + b1) # (32, 100)\n",
    "    logits = h @ W2 + b2 # (32, 27)\n",
    "    loss = F.cross_entropy(logits, Y[idx])\n",
    "    # print(loss.item())\n",
    "    \n",
    "    # Backward pass\n",
    "    for p in parameters:\n",
    "        p.grad = None\n",
    "    loss.backward()\n",
    "\n",
    "    # Parameter update\n",
    "    lr = lrs[i]\n",
    "    for p in parameters:\n",
    "        p.data += -lr * p.grad\n",
    "        \n",
    "    # Track stats\n",
    "    lri.append(lre[i])\n",
    "    lossi.append(loss.item())\n",
    "\n",
    "print(loss.item())"
   ]
  },
  {
   "cell_type": "code",
   "execution_count": 93,
   "id": "85855377",
   "metadata": {},
   "outputs": [
    {
     "data": {
      "text/plain": [
       "[<matplotlib.lines.Line2D at 0x7fec6468d1b0>]"
      ]
     },
     "execution_count": 93,
     "metadata": {},
     "output_type": "execute_result"
    },
    {
     "data": {
      "image/png": "[encoded data removed]",
      "text/plain": [
       "<Figure size 640x480 with 1 Axes>"
      ]
     },
     "metadata": {},
     "output_type": "display_data"
    }
   ],
   "source": [
    "plt.plot(lri,lossi)\n",
    "\n",
    "# The chart below shows that the learning rate exponent of about -1.0 is pretty good\n",
    "# This gives the ideal learning rate as 0.1"
   ]
  },
  {
   "cell_type": "code",
   "execution_count": 94,
   "id": "99a78d07",
   "metadata": {},
   "outputs": [],
   "source": [
    "# Read the full data set and optimize the neural network\n",
    "\n",
    "# Build the dataset\n",
    "\n",
    "block_size = 3     # Context Length: How many previous characters do we use to predict the next one?\n",
    "X, Y = [], []\n",
    "for w in words:\n",
    "    # print(w)\n",
    "    context = [0] * block_size\n",
    "    for ch in w + '.':\n",
    "        idx = stoi[ch]\n",
    "        X.append(context)\n",
    "        Y.append(idx)\n",
    "        # print(''.join(itos[i] for i in context), '----->', itos[idx])\n",
    "        context = context[1:] + [idx]     # Crop and append\n",
    "\n",
    "X = torch.tensor(X)\n",
    "Y = torch.tensor(Y)"
   ]
  },
  {
   "cell_type": "code",
   "execution_count": 95,
   "id": "93c4421b",
   "metadata": {},
   "outputs": [],
   "source": [
    "g = torch.Generator().manual_seed(2147483647)\n",
    "C = torch.randn((27,2), generator=g)\n",
    "W1 = torch.randn((6, 100), generator=g)\n",
    "b1 = torch.randn(100, generator=g)\n",
    "W2 = torch.randn((100,27), generator=g)\n",
    "b2 = torch.randn(27, generator=g)\n",
    "parameters = [C, W1, b1, W2, b2]"
   ]
  },
  {
   "cell_type": "code",
   "execution_count": 96,
   "id": "66d6cfe0",
   "metadata": {},
   "outputs": [],
   "source": [
    "for p in parameters:\n",
    "    p.requires_grad = True"
   ]
  },
  {
   "cell_type": "code",
   "execution_count": 100,
   "id": "cb3973b5",
   "metadata": {},
   "outputs": [
    {
     "name": "stdout",
     "output_type": "stream",
     "text": [
      "2.39837384223938\n"
     ]
    }
   ],
   "source": [
    "# Set up training of the neural network\n",
    "eta = 0.1\n",
    "\n",
    "for i in range(10000):\n",
    "    \n",
    "    # Construct minibatch\n",
    "    idx = torch.randint(0, X.shape[0], (32,))\n",
    "\n",
    "    # Forward pass\n",
    "    emb = C[X[idx]] #(32, 3,2)\n",
    "    h = torch.tanh(emb.view(-1,6) @ W1 + b1) # (32, 100)\n",
    "    logits = h @ W2 + b2 # (32, 27)\n",
    "    loss = F.cross_entropy(logits, Y[idx])\n",
    "    # print(loss.item())\n",
    "    \n",
    "    # Backward pass\n",
    "    for p in parameters:\n",
    "        p.grad = None\n",
    "    loss.backward()\n",
    "\n",
    "    # Parameter update\n",
    "    for p in parameters:\n",
    "        p.data += -eta * p.grad\n",
    "\n",
    "print(loss.item())"
   ]
  },
  {
   "cell_type": "code",
   "execution_count": 101,
   "id": "948dde1d",
   "metadata": {},
   "outputs": [
    {
     "name": "stdout",
     "output_type": "stream",
     "text": [
      "2.2873759269714355\n"
     ]
    }
   ],
   "source": [
    "# Calculate the loss for the entire dataset\n",
    "emb = C[X] #(32, 3,2)\n",
    "h = torch.tanh(emb.view(-1,6) @ W1 + b1) # (32, 100)\n",
    "logits = h @ W2 + b2 # (32, 27)\n",
    "loss = F.cross_entropy(logits, Y)\n",
    "print(loss.item())"
   ]
  },
  {
   "cell_type": "code",
   "execution_count": null,
   "id": "c6e3fbd1",
   "metadata": {},
   "outputs": [],
   "source": [
    "# Note that 2.28 is better than the loss on the bigram model that we achieved"
   ]
  }
 ],
 "metadata": {
  "kernelspec": {
   "display_name": "Python 3 (ipykernel)",
   "language": "python",
   "name": "python3"
  },
  "language_info": {
   "codemirror_mode": {
    "name": "ipython",
    "version": 3
   },
   "file_extension": ".py",
   "mimetype": "text/x-python",
   "name": "python",
   "nbconvert_exporter": "python",
   "pygments_lexer": "ipython3",
   "version": "3.10.9"
  }
 },
 "nbformat": 4,
 "nbformat_minor": 5
}
