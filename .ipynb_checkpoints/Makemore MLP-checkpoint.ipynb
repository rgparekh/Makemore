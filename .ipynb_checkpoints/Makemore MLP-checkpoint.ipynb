{
 "cells": [
  {
   "cell_type": "code",
   "execution_count": 1,
   "id": "b83805de",
   "metadata": {},
   "outputs": [],
   "source": [
    "import torch\n",
    "import torch.nn.functional as F\n",
    "import matplotlib.pyplot as plt\n",
    "%matplotlib inline"
   ]
  },
  {
   "cell_type": "code",
   "execution_count": 4,
   "id": "42d378fb",
   "metadata": {},
   "outputs": [
    {
     "data": {
      "text/plain": [
       "['emma', 'olivia', 'ava', 'isabella', 'sophia', 'charlotte', 'mia', 'amelia']"
      ]
     },
     "execution_count": 4,
     "metadata": {},
     "output_type": "execute_result"
    }
   ],
   "source": [
    "# Read in the words\n",
    "words = open('/Users/rajesh/Documents/Datasets/names.txt', 'r').read().splitlines()\n",
    "words[:8]"
   ]
  },
  {
   "cell_type": "code",
   "execution_count": 5,
   "id": "74eb366e",
   "metadata": {},
   "outputs": [
    {
     "data": {
      "text/plain": [
       "32033"
      ]
     },
     "execution_count": 5,
     "metadata": {},
     "output_type": "execute_result"
    }
   ],
   "source": [
    "len(words)"
   ]
  },
  {
   "cell_type": "code",
   "execution_count": 7,
   "id": "a9f2f39e",
   "metadata": {},
   "outputs": [
    {
     "name": "stdout",
     "output_type": "stream",
     "text": [
      "{1: 'a', 2: 'b', 3: 'c', 4: 'd', 5: 'e', 6: 'f', 7: 'g', 8: 'h', 9: 'i', 10: 'j', 11: 'k', 12: 'l', 13: 'm', 14: 'n', 15: 'o', 16: 'p', 17: 'q', 18: 'r', 19: 's', 20: 't', 21: 'u', 22: 'v', 23: 'w', 24: 'x', 25: 'y', 26: 'z', 0: '.'}\n"
     ]
    }
   ],
   "source": [
    "# Build the vocabulary of characters and mappings to/from integers\n",
    "chars = sorted(list(set(''.join(words))))\n",
    "stoi = {s:i+1 for i,s in enumerate(chars)}\n",
    "stoi['.'] = 0\n",
    "itos = {i:s for s,i in stoi.items()}\n",
    "print(itos)"
   ]
  },
  {
   "cell_type": "code",
   "execution_count": 9,
   "id": "28a0eac0",
   "metadata": {},
   "outputs": [
    {
     "name": "stdout",
     "output_type": "stream",
     "text": [
      "emma\n",
      "... -----> e\n",
      "..e -----> m\n",
      ".em -----> m\n",
      "emm -----> a\n",
      "mma -----> .\n",
      "olivia\n",
      "... -----> o\n",
      "..o -----> l\n",
      ".ol -----> i\n",
      "oli -----> v\n",
      "liv -----> i\n",
      "ivi -----> a\n",
      "via -----> .\n",
      "ava\n",
      "... -----> a\n",
      "..a -----> v\n",
      ".av -----> a\n",
      "ava -----> .\n",
      "isabella\n",
      "... -----> i\n",
      "..i -----> s\n",
      ".is -----> a\n",
      "isa -----> b\n",
      "sab -----> e\n",
      "abe -----> l\n",
      "bel -----> l\n",
      "ell -----> a\n",
      "lla -----> .\n",
      "sophia\n",
      "... -----> s\n",
      "..s -----> o\n",
      ".so -----> p\n",
      "sop -----> h\n",
      "oph -----> i\n",
      "phi -----> a\n",
      "hia -----> .\n"
     ]
    }
   ],
   "source": [
    "# Build the dataset\n",
    "\n",
    "block_size = 3     # Context Length: How many previous characters do we use to predict the next one?\n",
    "X, Y = [], []\n",
    "for w in words[:5]:\n",
    "    print(w)\n",
    "    context = [0] * block_size\n",
    "    for ch in w + '.':\n",
    "        idx = stoi[ch]\n",
    "        X.append(context)\n",
    "        Y.append(idx)\n",
    "        print(''.join(itos[i] for i in context), '----->', itos[idx])\n",
    "        context = context[1:] + [idx]     # Crop and append\n",
    "\n",
    "X = torch.tensor(X)\n",
    "Y = torch.tensor(Y)"
   ]
  },
  {
   "cell_type": "code",
   "execution_count": 10,
   "id": "84c485fe",
   "metadata": {},
   "outputs": [
    {
     "data": {
      "text/plain": [
       "(torch.Size([32, 3]), torch.int64, torch.Size([32]), torch.int64)"
      ]
     },
     "execution_count": 10,
     "metadata": {},
     "output_type": "execute_result"
    }
   ],
   "source": [
    "X.shape, X.dtype, Y.shape, Y.dtype"
   ]
  },
  {
   "cell_type": "code",
   "execution_count": 11,
   "id": "609abad6",
   "metadata": {},
   "outputs": [],
   "source": [
    "# Embedding logup table\n",
    "C = torch.randn((27,2))"
   ]
  },
  {
   "cell_type": "code",
   "execution_count": 12,
   "id": "17a1d8c2",
   "metadata": {},
   "outputs": [
    {
     "data": {
      "text/plain": [
       "tensor([-0.5771, -0.2291])"
      ]
     },
     "execution_count": 12,
     "metadata": {},
     "output_type": "execute_result"
    }
   ],
   "source": [
    "C[5]"
   ]
  },
  {
   "cell_type": "code",
   "execution_count": 13,
   "id": "f59771cf",
   "metadata": {},
   "outputs": [
    {
     "data": {
      "text/plain": [
       "tensor([0, 0, 0, 0, 0, 1, 0, 0, 0, 0, 0, 0, 0, 0, 0, 0, 0, 0, 0, 0, 0, 0, 0, 0,\n",
       "        0, 0, 0])"
      ]
     },
     "execution_count": 13,
     "metadata": {},
     "output_type": "execute_result"
    }
   ],
   "source": [
    "F.one_hot(torch.tensor(5), num_classes=27)"
   ]
  },
  {
   "cell_type": "code",
   "execution_count": 14,
   "id": "fd764ca1",
   "metadata": {},
   "outputs": [
    {
     "data": {
      "text/plain": [
       "tensor([-0.5771, -0.2291])"
      ]
     },
     "execution_count": 14,
     "metadata": {},
     "output_type": "execute_result"
    }
   ],
   "source": [
    "# Multiply the one hot encoding vector with the columns of C\n",
    "\n",
    "F.one_hot(torch.tensor(5), num_classes=27).float() @ C"
   ]
  },
  {
   "cell_type": "code",
   "execution_count": 18,
   "id": "ca946899",
   "metadata": {},
   "outputs": [
    {
     "data": {
      "text/plain": [
       "tensor([[-0.5771, -0.2291],\n",
       "        [-0.3132, -1.0164],\n",
       "        [-0.2915,  1.8365],\n",
       "        [-0.2915,  1.8365],\n",
       "        [-0.2915,  1.8365],\n",
       "        [-0.2915,  1.8365]])"
      ]
     },
     "execution_count": 18,
     "metadata": {},
     "output_type": "execute_result"
    }
   ],
   "source": [
    "# Get multiple elements\n",
    "# Note that the index 7 is repeated multiple times and will be retrieved as many times\n",
    "C[torch.tensor([5,6,7,7,7,7])]"
   ]
  },
  {
   "cell_type": "code",
   "execution_count": 19,
   "id": "05541e28",
   "metadata": {},
   "outputs": [
    {
     "data": {
      "text/plain": [
       "torch.Size([32, 3, 2])"
      ]
     },
     "execution_count": 19,
     "metadata": {},
     "output_type": "execute_result"
    }
   ],
   "source": [
    "C[X].shape"
   ]
  },
  {
   "cell_type": "code",
   "execution_count": 20,
   "id": "2a92ec63",
   "metadata": {},
   "outputs": [
    {
     "data": {
      "text/plain": [
       "torch.Size([32, 3, 2])"
      ]
     },
     "execution_count": 20,
     "metadata": {},
     "output_type": "execute_result"
    }
   ],
   "source": [
    "# Using pytorch indexing we create our embedding as follows\n",
    "emb = C[X]\n",
    "emb.shape"
   ]
  },
  {
   "cell_type": "code",
   "execution_count": 21,
   "id": "47557aa0",
   "metadata": {},
   "outputs": [],
   "source": [
    "# Construct the hidden layer\n",
    "# We have 3 embeddings each of which is 2 dimensional - 6 inputs\n",
    "# Assume 100 neurons in the hidden layer\n",
    "# b is bias\n",
    "\n",
    "W1 = torch.randn((6,100))\n",
    "b1 = torch.randn(100)"
   ]
  },
  {
   "cell_type": "code",
   "execution_count": 22,
   "id": "963e767e",
   "metadata": {},
   "outputs": [
    {
     "ename": "RuntimeError",
     "evalue": "mat1 and mat2 shapes cannot be multiplied (96x2 and 6x100)",
     "output_type": "error",
     "traceback": [
      "\u001b[0;31m---------------------------------------------------------------------------\u001b[0m",
      "\u001b[0;31mRuntimeError\u001b[0m                              Traceback (most recent call last)",
      "Cell \u001b[0;32mIn[22], line 2\u001b[0m\n\u001b[1;32m      1\u001b[0m \u001b[38;5;66;03m# We want to multiply the embeddings by the weight\u001b[39;00m\n\u001b[0;32m----> 2\u001b[0m \u001b[43memb\u001b[49m\u001b[43m \u001b[49m\u001b[38;5;241;43m@\u001b[39;49m\u001b[43m \u001b[49m\u001b[43mW1\u001b[49m \u001b[38;5;241m+\u001b[39m b1\n",
      "\u001b[0;31mRuntimeError\u001b[0m: mat1 and mat2 shapes cannot be multiplied (96x2 and 6x100)"
     ]
    }
   ],
   "source": [
    "# We want to multiply the embeddings by the weight\n",
    "# However, the below gives an error because the embeddings have not been concatenated\n",
    "emb @ W1 + b1"
   ]
  },
  {
   "cell_type": "code",
   "execution_count": 24,
   "id": "892ee549",
   "metadata": {},
   "outputs": [
    {
     "data": {
      "text/plain": [
       "tensor([[ 1.1960, -1.3210,  1.1960, -1.3210,  1.1960, -1.3210],\n",
       "        [ 1.1960, -1.3210,  1.1960, -1.3210, -0.5771, -0.2291],\n",
       "        [ 1.1960, -1.3210, -0.5771, -0.2291,  1.2075, -0.6821],\n",
       "        [-0.5771, -0.2291,  1.2075, -0.6821,  1.2075, -0.6821],\n",
       "        [ 1.2075, -0.6821,  1.2075, -0.6821,  0.6793, -1.3878],\n",
       "        [ 1.1960, -1.3210,  1.1960, -1.3210,  1.1960, -1.3210],\n",
       "        [ 1.1960, -1.3210,  1.1960, -1.3210, -1.2841,  1.7233],\n",
       "        [ 1.1960, -1.3210, -1.2841,  1.7233,  2.0226, -1.2506],\n",
       "        [-1.2841,  1.7233,  2.0226, -1.2506,  1.1542,  0.4299],\n",
       "        [ 2.0226, -1.2506,  1.1542,  0.4299, -0.5908,  0.8096],\n",
       "        [ 1.1542,  0.4299, -0.5908,  0.8096,  1.1542,  0.4299],\n",
       "        [-0.5908,  0.8096,  1.1542,  0.4299,  0.6793, -1.3878],\n",
       "        [ 1.1960, -1.3210,  1.1960, -1.3210,  1.1960, -1.3210],\n",
       "        [ 1.1960, -1.3210,  1.1960, -1.3210,  0.6793, -1.3878],\n",
       "        [ 1.1960, -1.3210,  0.6793, -1.3878, -0.5908,  0.8096],\n",
       "        [ 0.6793, -1.3878, -0.5908,  0.8096,  0.6793, -1.3878],\n",
       "        [ 1.1960, -1.3210,  1.1960, -1.3210,  1.1960, -1.3210],\n",
       "        [ 1.1960, -1.3210,  1.1960, -1.3210,  1.1542,  0.4299],\n",
       "        [ 1.1960, -1.3210,  1.1542,  0.4299, -0.6814, -0.0943],\n",
       "        [ 1.1542,  0.4299, -0.6814, -0.0943,  0.6793, -1.3878],\n",
       "        [-0.6814, -0.0943,  0.6793, -1.3878, -0.6247,  1.1240],\n",
       "        [ 0.6793, -1.3878, -0.6247,  1.1240, -0.5771, -0.2291],\n",
       "        [-0.6247,  1.1240, -0.5771, -0.2291,  2.0226, -1.2506],\n",
       "        [-0.5771, -0.2291,  2.0226, -1.2506,  2.0226, -1.2506],\n",
       "        [ 2.0226, -1.2506,  2.0226, -1.2506,  0.6793, -1.3878],\n",
       "        [ 1.1960, -1.3210,  1.1960, -1.3210,  1.1960, -1.3210],\n",
       "        [ 1.1960, -1.3210,  1.1960, -1.3210, -0.6814, -0.0943],\n",
       "        [ 1.1960, -1.3210, -0.6814, -0.0943, -1.2841,  1.7233],\n",
       "        [-0.6814, -0.0943, -1.2841,  1.7233,  0.6852, -2.2540],\n",
       "        [-1.2841,  1.7233,  0.6852, -2.2540, -0.2732,  0.7326],\n",
       "        [ 0.6852, -2.2540, -0.2732,  0.7326,  1.1542,  0.4299],\n",
       "        [-0.2732,  0.7326,  1.1542,  0.4299,  0.6793, -1.3878]])"
      ]
     },
     "execution_count": 24,
     "metadata": {},
     "output_type": "execute_result"
    }
   ],
   "source": [
    "# Note that the emb is a tensor of size 32, 3, 2\n",
    "# This results in a 32 x 6 tensor by concatenating the 3 embeddings\n",
    "torch.cat([emb[:, 0, :], emb[:, 1, :], emb [:, 2, :]], 1)"
   ]
  },
  {
   "cell_type": "code",
   "execution_count": 25,
   "id": "24529fec",
   "metadata": {},
   "outputs": [
    {
     "data": {
      "text/plain": [
       "(tensor([[ 1.1960, -1.3210],\n",
       "         [ 1.1960, -1.3210],\n",
       "         [ 1.1960, -1.3210],\n",
       "         [-0.5771, -0.2291],\n",
       "         [ 1.2075, -0.6821],\n",
       "         [ 1.1960, -1.3210],\n",
       "         [ 1.1960, -1.3210],\n",
       "         [ 1.1960, -1.3210],\n",
       "         [-1.2841,  1.7233],\n",
       "         [ 2.0226, -1.2506],\n",
       "         [ 1.1542,  0.4299],\n",
       "         [-0.5908,  0.8096],\n",
       "         [ 1.1960, -1.3210],\n",
       "         [ 1.1960, -1.3210],\n",
       "         [ 1.1960, -1.3210],\n",
       "         [ 0.6793, -1.3878],\n",
       "         [ 1.1960, -1.3210],\n",
       "         [ 1.1960, -1.3210],\n",
       "         [ 1.1960, -1.3210],\n",
       "         [ 1.1542,  0.4299],\n",
       "         [-0.6814, -0.0943],\n",
       "         [ 0.6793, -1.3878],\n",
       "         [-0.6247,  1.1240],\n",
       "         [-0.5771, -0.2291],\n",
       "         [ 2.0226, -1.2506],\n",
       "         [ 1.1960, -1.3210],\n",
       "         [ 1.1960, -1.3210],\n",
       "         [ 1.1960, -1.3210],\n",
       "         [-0.6814, -0.0943],\n",
       "         [-1.2841,  1.7233],\n",
       "         [ 0.6852, -2.2540],\n",
       "         [-0.2732,  0.7326]]),\n",
       " tensor([[ 1.1960, -1.3210],\n",
       "         [ 1.1960, -1.3210],\n",
       "         [-0.5771, -0.2291],\n",
       "         [ 1.2075, -0.6821],\n",
       "         [ 1.2075, -0.6821],\n",
       "         [ 1.1960, -1.3210],\n",
       "         [ 1.1960, -1.3210],\n",
       "         [-1.2841,  1.7233],\n",
       "         [ 2.0226, -1.2506],\n",
       "         [ 1.1542,  0.4299],\n",
       "         [-0.5908,  0.8096],\n",
       "         [ 1.1542,  0.4299],\n",
       "         [ 1.1960, -1.3210],\n",
       "         [ 1.1960, -1.3210],\n",
       "         [ 0.6793, -1.3878],\n",
       "         [-0.5908,  0.8096],\n",
       "         [ 1.1960, -1.3210],\n",
       "         [ 1.1960, -1.3210],\n",
       "         [ 1.1542,  0.4299],\n",
       "         [-0.6814, -0.0943],\n",
       "         [ 0.6793, -1.3878],\n",
       "         [-0.6247,  1.1240],\n",
       "         [-0.5771, -0.2291],\n",
       "         [ 2.0226, -1.2506],\n",
       "         [ 2.0226, -1.2506],\n",
       "         [ 1.1960, -1.3210],\n",
       "         [ 1.1960, -1.3210],\n",
       "         [-0.6814, -0.0943],\n",
       "         [-1.2841,  1.7233],\n",
       "         [ 0.6852, -2.2540],\n",
       "         [-0.2732,  0.7326],\n",
       "         [ 1.1542,  0.4299]]),\n",
       " tensor([[ 1.1960, -1.3210],\n",
       "         [-0.5771, -0.2291],\n",
       "         [ 1.2075, -0.6821],\n",
       "         [ 1.2075, -0.6821],\n",
       "         [ 0.6793, -1.3878],\n",
       "         [ 1.1960, -1.3210],\n",
       "         [-1.2841,  1.7233],\n",
       "         [ 2.0226, -1.2506],\n",
       "         [ 1.1542,  0.4299],\n",
       "         [-0.5908,  0.8096],\n",
       "         [ 1.1542,  0.4299],\n",
       "         [ 0.6793, -1.3878],\n",
       "         [ 1.1960, -1.3210],\n",
       "         [ 0.6793, -1.3878],\n",
       "         [-0.5908,  0.8096],\n",
       "         [ 0.6793, -1.3878],\n",
       "         [ 1.1960, -1.3210],\n",
       "         [ 1.1542,  0.4299],\n",
       "         [-0.6814, -0.0943],\n",
       "         [ 0.6793, -1.3878],\n",
       "         [-0.6247,  1.1240],\n",
       "         [-0.5771, -0.2291],\n",
       "         [ 2.0226, -1.2506],\n",
       "         [ 2.0226, -1.2506],\n",
       "         [ 0.6793, -1.3878],\n",
       "         [ 1.1960, -1.3210],\n",
       "         [-0.6814, -0.0943],\n",
       "         [-1.2841,  1.7233],\n",
       "         [ 0.6852, -2.2540],\n",
       "         [-0.2732,  0.7326],\n",
       "         [ 1.1542,  0.4299],\n",
       "         [ 0.6793, -1.3878]]))"
      ]
     },
     "execution_count": 25,
     "metadata": {},
     "output_type": "execute_result"
    }
   ],
   "source": [
    "# Use torch.unbind to remove a tensor dimension\n",
    "torch.unbind(emb, 1)"
   ]
  },
  {
   "cell_type": "code",
   "execution_count": 26,
   "id": "bf9a69b0",
   "metadata": {},
   "outputs": [
    {
     "data": {
      "text/plain": [
       "torch.Size([32, 6])"
      ]
     },
     "execution_count": 26,
     "metadata": {},
     "output_type": "execute_result"
    }
   ],
   "source": [
    "# Note that the Pytorch concatenation creates a whole new tensor that uses new memory\n",
    "\n",
    "torch.cat(torch.unbind(emb, 1), 1).shape"
   ]
  },
  {
   "cell_type": "code",
   "execution_count": 27,
   "id": "ed207346",
   "metadata": {},
   "outputs": [
    {
     "data": {
      "text/plain": [
       "tensor([ 0,  1,  2,  3,  4,  5,  6,  7,  8,  9, 10, 11, 12, 13, 14, 15, 16, 17])"
      ]
     },
     "execution_count": 27,
     "metadata": {},
     "output_type": "execute_result"
    }
   ],
   "source": [
    "# Torch views are more efficient ways of concatenating the data\n",
    "a = torch.arange(18)\n",
    "a"
   ]
  },
  {
   "cell_type": "code",
   "execution_count": 28,
   "id": "302c8373",
   "metadata": {},
   "outputs": [
    {
     "data": {
      "text/plain": [
       "tensor([[ 0,  1,  2,  3,  4,  5,  6,  7,  8],\n",
       "        [ 9, 10, 11, 12, 13, 14, 15, 16, 17]])"
      ]
     },
     "execution_count": 28,
     "metadata": {},
     "output_type": "execute_result"
    }
   ],
   "source": [
    "# The above torch vector can be represented as different sized tensors\n",
    "a.view(2,9)"
   ]
  },
  {
   "cell_type": "code",
   "execution_count": 29,
   "id": "7ef32654",
   "metadata": {},
   "outputs": [
    {
     "data": {
      "text/plain": [
       "tensor([[[ 0,  1],\n",
       "         [ 2,  3],\n",
       "         [ 4,  5]],\n",
       "\n",
       "        [[ 6,  7],\n",
       "         [ 8,  9],\n",
       "         [10, 11]],\n",
       "\n",
       "        [[12, 13],\n",
       "         [14, 15],\n",
       "         [16, 17]]])"
      ]
     },
     "execution_count": 29,
     "metadata": {},
     "output_type": "execute_result"
    }
   ],
   "source": [
    "a.view(3,3,2)"
   ]
  },
  {
   "cell_type": "code",
   "execution_count": 31,
   "id": "5174da0a",
   "metadata": {},
   "outputs": [
    {
     "data": {
      "text/plain": [
       " 0\n",
       " 1\n",
       " 2\n",
       " 3\n",
       " 4\n",
       " 5\n",
       " 6\n",
       " 7\n",
       " 8\n",
       " 9\n",
       " 10\n",
       " 11\n",
       " 12\n",
       " 13\n",
       " 14\n",
       " 15\n",
       " 16\n",
       " 17\n",
       "[torch.storage._TypedStorage(dtype=torch.int64, device=cpu) of size 18]"
      ]
     },
     "execution_count": 31,
     "metadata": {},
     "output_type": "execute_result"
    }
   ],
   "source": [
    "# Storage is always a 1-D vector in memory\n",
    "a.storage()\n",
    "\n",
    "# Reference: log.ezyang.com (PyTorch internals)"
   ]
  },
  {
   "cell_type": "code",
   "execution_count": 32,
   "id": "32d66e73",
   "metadata": {},
   "outputs": [
    {
     "data": {
      "text/plain": [
       "torch.Size([32, 3, 2])"
      ]
     },
     "execution_count": 32,
     "metadata": {},
     "output_type": "execute_result"
    }
   ],
   "source": [
    "emb.shape"
   ]
  },
  {
   "cell_type": "code",
   "execution_count": 33,
   "id": "1c17c25c",
   "metadata": {},
   "outputs": [
    {
     "data": {
      "text/plain": [
       "tensor([[ 1.1960, -1.3210,  1.1960, -1.3210,  1.1960, -1.3210],\n",
       "        [ 1.1960, -1.3210,  1.1960, -1.3210, -0.5771, -0.2291],\n",
       "        [ 1.1960, -1.3210, -0.5771, -0.2291,  1.2075, -0.6821],\n",
       "        [-0.5771, -0.2291,  1.2075, -0.6821,  1.2075, -0.6821],\n",
       "        [ 1.2075, -0.6821,  1.2075, -0.6821,  0.6793, -1.3878],\n",
       "        [ 1.1960, -1.3210,  1.1960, -1.3210,  1.1960, -1.3210],\n",
       "        [ 1.1960, -1.3210,  1.1960, -1.3210, -1.2841,  1.7233],\n",
       "        [ 1.1960, -1.3210, -1.2841,  1.7233,  2.0226, -1.2506],\n",
       "        [-1.2841,  1.7233,  2.0226, -1.2506,  1.1542,  0.4299],\n",
       "        [ 2.0226, -1.2506,  1.1542,  0.4299, -0.5908,  0.8096],\n",
       "        [ 1.1542,  0.4299, -0.5908,  0.8096,  1.1542,  0.4299],\n",
       "        [-0.5908,  0.8096,  1.1542,  0.4299,  0.6793, -1.3878],\n",
       "        [ 1.1960, -1.3210,  1.1960, -1.3210,  1.1960, -1.3210],\n",
       "        [ 1.1960, -1.3210,  1.1960, -1.3210,  0.6793, -1.3878],\n",
       "        [ 1.1960, -1.3210,  0.6793, -1.3878, -0.5908,  0.8096],\n",
       "        [ 0.6793, -1.3878, -0.5908,  0.8096,  0.6793, -1.3878],\n",
       "        [ 1.1960, -1.3210,  1.1960, -1.3210,  1.1960, -1.3210],\n",
       "        [ 1.1960, -1.3210,  1.1960, -1.3210,  1.1542,  0.4299],\n",
       "        [ 1.1960, -1.3210,  1.1542,  0.4299, -0.6814, -0.0943],\n",
       "        [ 1.1542,  0.4299, -0.6814, -0.0943,  0.6793, -1.3878],\n",
       "        [-0.6814, -0.0943,  0.6793, -1.3878, -0.6247,  1.1240],\n",
       "        [ 0.6793, -1.3878, -0.6247,  1.1240, -0.5771, -0.2291],\n",
       "        [-0.6247,  1.1240, -0.5771, -0.2291,  2.0226, -1.2506],\n",
       "        [-0.5771, -0.2291,  2.0226, -1.2506,  2.0226, -1.2506],\n",
       "        [ 2.0226, -1.2506,  2.0226, -1.2506,  0.6793, -1.3878],\n",
       "        [ 1.1960, -1.3210,  1.1960, -1.3210,  1.1960, -1.3210],\n",
       "        [ 1.1960, -1.3210,  1.1960, -1.3210, -0.6814, -0.0943],\n",
       "        [ 1.1960, -1.3210, -0.6814, -0.0943, -1.2841,  1.7233],\n",
       "        [-0.6814, -0.0943, -1.2841,  1.7233,  0.6852, -2.2540],\n",
       "        [-1.2841,  1.7233,  0.6852, -2.2540, -0.2732,  0.7326],\n",
       "        [ 0.6852, -2.2540, -0.2732,  0.7326,  1.1542,  0.4299],\n",
       "        [-0.2732,  0.7326,  1.1542,  0.4299,  0.6793, -1.3878]])"
      ]
     },
     "execution_count": 33,
     "metadata": {},
     "output_type": "execute_result"
    }
   ],
   "source": [
    "emb.view(32,6)"
   ]
  },
  {
   "cell_type": "code",
   "execution_count": 34,
   "id": "a0010121",
   "metadata": {},
   "outputs": [
    {
     "data": {
      "text/plain": [
       "tensor([[True, True, True, True, True, True],\n",
       "        [True, True, True, True, True, True],\n",
       "        [True, True, True, True, True, True],\n",
       "        [True, True, True, True, True, True],\n",
       "        [True, True, True, True, True, True],\n",
       "        [True, True, True, True, True, True],\n",
       "        [True, True, True, True, True, True],\n",
       "        [True, True, True, True, True, True],\n",
       "        [True, True, True, True, True, True],\n",
       "        [True, True, True, True, True, True],\n",
       "        [True, True, True, True, True, True],\n",
       "        [True, True, True, True, True, True],\n",
       "        [True, True, True, True, True, True],\n",
       "        [True, True, True, True, True, True],\n",
       "        [True, True, True, True, True, True],\n",
       "        [True, True, True, True, True, True],\n",
       "        [True, True, True, True, True, True],\n",
       "        [True, True, True, True, True, True],\n",
       "        [True, True, True, True, True, True],\n",
       "        [True, True, True, True, True, True],\n",
       "        [True, True, True, True, True, True],\n",
       "        [True, True, True, True, True, True],\n",
       "        [True, True, True, True, True, True],\n",
       "        [True, True, True, True, True, True],\n",
       "        [True, True, True, True, True, True],\n",
       "        [True, True, True, True, True, True],\n",
       "        [True, True, True, True, True, True],\n",
       "        [True, True, True, True, True, True],\n",
       "        [True, True, True, True, True, True],\n",
       "        [True, True, True, True, True, True],\n",
       "        [True, True, True, True, True, True],\n",
       "        [True, True, True, True, True, True]])"
      ]
     },
     "execution_count": 34,
     "metadata": {},
     "output_type": "execute_result"
    }
   ],
   "source": [
    "# Elementwise equality comparison\n",
    "emb.view(32,6) == torch.cat(torch.unbind(emb, 1), 1)"
   ]
  },
  {
   "cell_type": "code",
   "execution_count": 35,
   "id": "86f3ece5",
   "metadata": {},
   "outputs": [],
   "source": [
    "# Back to the hidden layer\n",
    "\n",
    "# Note that the -1 is interpreted by Pytorch as the remaining number of elements\n",
    "h = torch.tanh(emb.view(-1, 6) @ W1 + b1)\n",
    "\n",
    "# Note that + b1 is using broadcasting.\n",
    "# (emb.view(-1, 6) @ W1).shape = torch.Size([32,100])\n",
    "# b1.shape = torch.Size([100])\n",
    "# Broadcasting will align from the right and create a fake dimension (32)\n",
    "# 32, 100\n",
    "# 1, 100"
   ]
  },
  {
   "cell_type": "code",
   "execution_count": 36,
   "id": "d3705052",
   "metadata": {},
   "outputs": [
    {
     "data": {
      "text/plain": [
       "tensor([[-0.8824, -0.9436, -0.9902,  ...,  0.9998, -0.8671,  0.5502],\n",
       "        [-0.9745,  0.4683,  0.3501,  ...,  0.7964,  0.8828,  0.9975],\n",
       "        [-0.8380, -0.2689, -0.9956,  ...,  0.9753, -0.9988, -0.9362],\n",
       "        ...,\n",
       "        [ 0.9512, -0.9699, -0.8260,  ..., -0.9998,  0.9580, -0.0167],\n",
       "        [-0.9100,  0.3560,  0.0192,  ..., -0.0477, -0.9796, -0.3332],\n",
       "        [-0.1659, -0.4239, -0.5958,  ...,  0.9731,  0.3468, -0.8914]])"
      ]
     },
     "execution_count": 36,
     "metadata": {},
     "output_type": "execute_result"
    }
   ],
   "source": [
    "h"
   ]
  },
  {
   "cell_type": "code",
   "execution_count": 37,
   "id": "0b4be140",
   "metadata": {},
   "outputs": [
    {
     "data": {
      "text/plain": [
       "torch.Size([32, 100])"
      ]
     },
     "execution_count": 37,
     "metadata": {},
     "output_type": "execute_result"
    }
   ],
   "source": [
    "# Hidden layer activations for every one of our 32 examples\n",
    "h.shape"
   ]
  },
  {
   "cell_type": "code",
   "execution_count": null,
   "id": "0af4a9d0",
   "metadata": {},
   "outputs": [],
   "source": [
    "# Create the output layer\n",
    "W2 = torch.rndn((100,27))\n",
    "b2 = torch.rndn(27)"
   ]
  },
  {
   "cell_type": "code",
   "execution_count": null,
   "id": "fce523cd",
   "metadata": {},
   "outputs": [],
   "source": [
    "logits = h @ W2 + b2"
   ]
  },
  {
   "cell_type": "code",
   "execution_count": null,
   "id": "b6aac21c",
   "metadata": {},
   "outputs": [],
   "source": [
    "logits.shape"
   ]
  }
 ],
 "metadata": {
  "kernelspec": {
   "display_name": "Python 3 (ipykernel)",
   "language": "python",
   "name": "python3"
  },
  "language_info": {
   "codemirror_mode": {
    "name": "ipython",
    "version": 3
   },
   "file_extension": ".py",
   "mimetype": "text/x-python",
   "name": "python",
   "nbconvert_exporter": "python",
   "pygments_lexer": "ipython3",
   "version": "3.10.9"
  }
 },
 "nbformat": 4,
 "nbformat_minor": 5
}
