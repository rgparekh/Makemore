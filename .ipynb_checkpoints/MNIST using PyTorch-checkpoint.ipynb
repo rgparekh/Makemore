{
 "cells": [
  {
   "cell_type": "code",
   "execution_count": null,
   "id": "7abbff3f",
   "metadata": {},
   "outputs": [],
   "source": [
    "import torch\n",
    "import torchvision\n",
    "import torch.nn.functional as F\n",
    "import matplotlib.pyplot as plt\n",
    "%matplotlib inline"
   ]
  },
  {
   "cell_type": "code",
   "execution_count": null,
   "id": "3a1fd62d",
   "metadata": {},
   "outputs": [],
   "source": [
    "train_batch_size = 64\n",
    "test_batch_size = 1000\n"
   ]
  },
  {
   "cell_type": "code",
   "execution_count": null,
   "id": "86df5f7b",
   "metadata": {},
   "outputs": [],
   "source": [
    "from torchvision import datasets\n",
    "\n",
    "# Training data\n",
    "mnist_train = datasets.MNIST('/Users/rajesh/Documents/Datasets', train=True, download=True)\n",
    "\n",
    "# Test data\n",
    "mnist_test = datasets.MNIST('/Users/rajesh/Documents/Datasets', train=False, download=True)\n"
   ]
  },
  {
   "cell_type": "code",
   "execution_count": null,
   "id": "7108a923",
   "metadata": {},
   "outputs": [],
   "source": []
  }
 ],
 "metadata": {
  "kernelspec": {
   "display_name": "Python 3 (ipykernel)",
   "language": "python",
   "name": "python3"
  },
  "language_info": {
   "codemirror_mode": {
    "name": "ipython",
    "version": 3
   },
   "file_extension": ".py",
   "mimetype": "text/x-python",
   "name": "python",
   "nbconvert_exporter": "python",
   "pygments_lexer": "ipython3",
   "version": "3.10.9"
  }
 },
 "nbformat": 4,
 "nbformat_minor": 5
}
