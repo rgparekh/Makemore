{
 "cells": [
  {
   "cell_type": "code",
   "execution_count": 2,
   "id": "0e94dacd",
   "metadata": {},
   "outputs": [],
   "source": [
    "import torch\n",
    "import torch.nn.functional as F\n",
    "import matplotlib.pyplot as plt\n",
    "%matplotlib inline"
   ]
  },
  {
   "cell_type": "code",
   "execution_count": 3,
   "id": "ecbc9dd4",
   "metadata": {},
   "outputs": [
    {
     "data": {
      "text/plain": [
       "['emma', 'olivia', 'ava', 'isabella', 'sophia', 'charlotte', 'mia', 'amelia']"
      ]
     },
     "execution_count": 3,
     "metadata": {},
     "output_type": "execute_result"
    }
   ],
   "source": [
    "# Read in the words\n",
    "words = open('/Users/rajesh/Documents/Datasets/names.txt', 'r').read().splitlines()\n",
    "words[:8]"
   ]
  },
  {
   "cell_type": "code",
   "execution_count": 4,
   "id": "2d68434b",
   "metadata": {},
   "outputs": [
    {
     "data": {
      "text/plain": [
       "32033"
      ]
     },
     "execution_count": 4,
     "metadata": {},
     "output_type": "execute_result"
    }
   ],
   "source": [
    "len(words)"
   ]
  },
  {
   "cell_type": "code",
   "execution_count": 5,
   "id": "a991470d",
   "metadata": {},
   "outputs": [
    {
     "name": "stdout",
     "output_type": "stream",
     "text": [
      "{1: 'a', 2: 'b', 3: 'c', 4: 'd', 5: 'e', 6: 'f', 7: 'g', 8: 'h', 9: 'i', 10: 'j', 11: 'k', 12: 'l', 13: 'm', 14: 'n', 15: 'o', 16: 'p', 17: 'q', 18: 'r', 19: 's', 20: 't', 21: 'u', 22: 'v', 23: 'w', 24: 'x', 25: 'y', 26: 'z', 0: '.'}\n",
      "27\n"
     ]
    }
   ],
   "source": [
    "# Build the vocabulary of characters and mappings to/from integers\n",
    "chars = sorted(list(set(''.join(words))))\n",
    "stoi = {s:i+1 for i,s in enumerate(chars)}\n",
    "stoi['.'] = 0\n",
    "itos = {i:s for s,i in stoi.items()}\n",
    "vocab_size = len(itos)\n",
    "print(itos)\n",
    "print(vocab_size)"
   ]
  },
  {
   "cell_type": "code",
   "execution_count": 6,
   "id": "b935f441",
   "metadata": {},
   "outputs": [
    {
     "name": "stdout",
     "output_type": "stream",
     "text": [
      "torch.Size([182625, 3]) torch.Size([182625])\n",
      "torch.Size([22655, 3]) torch.Size([22655])\n",
      "torch.Size([22866, 3]) torch.Size([22866])\n"
     ]
    }
   ],
   "source": [
    "# Build the dataset\n",
    "\n",
    "block_size = 3 # context length: how many characters do we take to predict the next one\n",
    "\n",
    "def build_dataset(words):\n",
    "\n",
    "    X, Y = [], []\n",
    "    for w in words:\n",
    "        context = [0] * block_size\n",
    "        for ch in w + '.':\n",
    "            idx = stoi[ch]\n",
    "            X.append(context)\n",
    "            Y.append(idx)\n",
    "            context = context[1:] + [idx] # crop and append\n",
    "            \n",
    "    X = torch.tensor(X)\n",
    "    Y = torch.tensor(Y)\n",
    "    print(X.shape, Y.shape)\n",
    "    return X,Y\n",
    "\n",
    "import random\n",
    "random.seed(42)\n",
    "random.shuffle(words)\n",
    "n1 = int(0.8*len(words))\n",
    "n2 = int(0.9*len(words))\n",
    "\n",
    "Xtrg, Ytrg = build_dataset(words[:n1])\n",
    "Xval, Yval = build_dataset(words[n1:n2])\n",
    "Xtst, Ytst = build_dataset(words[n2:])"
   ]
  },
  {
   "cell_type": "code",
   "execution_count": 7,
   "id": "72317172",
   "metadata": {},
   "outputs": [],
   "source": [
    "# Set up the MLP (multi-layer perceptron)\n",
    "n_embd = 10     # Dimensionality of the character embedding vectors\n",
    "n_hidden = 200  # Number of neurons in the hidden layer of the MLP\n",
    "\n",
    "# Set up the network parameters\n",
    "g = torch.Generator().manual_seed(2147483647)\n",
    "C = torch.randn((vocab_size,n_embd), generator=g)\n",
    "W1 = torch.randn((n_embd*block_size, n_hidden), generator=g)\n",
    "b1 = torch.randn(n_hidden, generator=g)\n",
    "W2 = torch.randn((n_hidden,vocab_size), generator=g)\n",
    "b2 = torch.randn(vocab_size, generator=g)\n",
    "parameters = [C, W1, b1, W2, b2]"
   ]
  },
  {
   "cell_type": "code",
   "execution_count": 8,
   "id": "36f20ff7",
   "metadata": {},
   "outputs": [],
   "source": [
    "for p in parameters:\n",
    "    p.requires_grad = True"
   ]
  },
  {
   "cell_type": "code",
   "execution_count": 9,
   "id": "897efb21",
   "metadata": {},
   "outputs": [
    {
     "data": {
      "text/plain": [
       "11897"
      ]
     },
     "execution_count": 9,
     "metadata": {},
     "output_type": "execute_result"
    }
   ],
   "source": [
    "sum(p.nelement() for p in parameters) # Number of parameters"
   ]
  },
  {
   "cell_type": "code",
   "execution_count": 10,
   "id": "483f3e0a",
   "metadata": {},
   "outputs": [
    {
     "name": "stdout",
     "output_type": "stream",
     "text": [
      "      0 /  200000 : 27.8817\n",
      "  10000 /  200000 : 2.9550\n",
      "  20000 /  200000 : 2.5960\n",
      "  30000 /  200000 : 2.8739\n",
      "  40000 /  200000 : 2.0954\n",
      "  50000 /  200000 : 2.4711\n",
      "  60000 /  200000 : 2.4224\n",
      "  70000 /  200000 : 2.1450\n",
      "  80000 /  200000 : 2.3150\n",
      "  90000 /  200000 : 2.3512\n",
      " 100000 /  200000 : 2.0754\n",
      " 110000 /  200000 : 2.4186\n",
      " 120000 /  200000 : 1.9340\n",
      " 130000 /  200000 : 2.4763\n",
      " 140000 /  200000 : 2.2390\n",
      " 150000 /  200000 : 2.1413\n",
      " 160000 /  200000 : 2.1554\n",
      " 170000 /  200000 : 1.8018\n",
      " 180000 /  200000 : 2.0026\n",
      " 190000 /  200000 : 1.8852\n"
     ]
    }
   ],
   "source": [
    "# Set up training of the neural network\n",
    "max_steps = 200000\n",
    "batch_size = 32\n",
    "lossi = []\n",
    "\n",
    "for i in range(max_steps):\n",
    "    \n",
    "    # Construct minibatch\n",
    "    idx = torch.randint(0, Xtrg.shape[0], (batch_size,), generator=g)\n",
    "    Xb, Yb = Xtrg[idx], Ytrg[idx]     # batch X, Y\n",
    "\n",
    "    # Forward pass\n",
    "    emb = C[Xb] # Embed the characters into vectors\n",
    "    embcat = emb.view(emb.shape[0], -1) # Concatenate the vectors\n",
    "    hpreact = embcat @ W1 + b1 # hidden layer pre-activation\n",
    "    h = torch.tanh(hpreact) # hidden layer activation\n",
    "    logits = h @ W2 + b2 # output layer\n",
    "    loss = F.cross_entropy(logits, Yb) # loss function\n",
    "    \n",
    "    # Backward pass\n",
    "    for p in parameters:\n",
    "        p.grad = None\n",
    "    loss.backward()\n",
    "\n",
    "    # Parameter update\n",
    "    eta = 0.1 if i < max_steps/2 else 0.01\n",
    "    for p in parameters:\n",
    "        p.data += -eta * p.grad\n",
    "        \n",
    "    # Track progress statistics\n",
    "    if i % 10000 == 0:\n",
    "            print(f'{i:7d} / {max_steps:7d} : {loss.item():.4f}')\n",
    "        \n",
    "    lossi.append(loss.log10().item())\n",
    "\n",
    "# print(loss.item())"
   ]
  },
  {
   "cell_type": "code",
   "execution_count": 11,
   "id": "3cd9c574",
   "metadata": {},
   "outputs": [
    {
     "data": {
      "text/plain": [
       "[<matplotlib.lines.Line2D at 0x7feb97924820>]"
      ]
     },
     "execution_count": 11,
     "metadata": {},
     "output_type": "execute_result"
    },
    {
     "data": {
      "image/png": "[encoded data removed]",
      "text/plain": [
       "<Figure size 640x480 with 1 Axes>"
      ]
     },
     "metadata": {},
     "output_type": "display_data"
    }
   ],
   "source": [
    "# Plot Steps against the Loss\n",
    "plt.plot(lossi)"
   ]
  },
  {
   "cell_type": "code",
   "execution_count": 12,
   "id": "4adae193",
   "metadata": {},
   "outputs": [
    {
     "name": "stdout",
     "output_type": "stream",
     "text": [
      "train 2.1276285648345947\n",
      "val 2.172778606414795\n"
     ]
    }
   ],
   "source": [
    "# Calculate the training and validation set loss\n",
    "\n",
    "@torch.no_grad()     # Decorator to tell PyTorch that the code below does not require bookkeeping for gradients\n",
    "                     # This improves execution efficiency\n",
    "    \n",
    "def calculate_split_loss(split):\n",
    "    x,y = {\n",
    "        'train': (Xtrg, Ytrg),\n",
    "        'val': (Xval, Yval),\n",
    "        'test': (Xtst, Ytst)\n",
    "    }[split]\n",
    "    \n",
    "    emb = C[x]     # (N, block_size, n_embd)\n",
    "    embcat = emb.view(emb.shape[0], -1)     # concat into (N, block_size * n_embd)\n",
    "    h = torch.tanh(embcat @ W1 + b1)        # hidden layer activation (N, n_hidden)\n",
    "    logits = h @ W2 + b2                    # output layer activation (N, vocab_size)\n",
    "    loss = F.cross_entropy(logits, y)\n",
    "    print(split, loss.item())\n",
    "    \n",
    "calculate_split_loss('train')\n",
    "calculate_split_loss('val')\n",
    "\n",
    "    \n",
    "    "
   ]
  },
  {
   "cell_type": "code",
   "execution_count": 14,
   "id": "1b2b6af3",
   "metadata": {},
   "outputs": [
    {
     "name": "stdout",
     "output_type": "stream",
     "text": [
      "mazili.\n",
      "nestoruetton.\n",
      "xadal.\n",
      "meran.\n",
      "semy.\n",
      "keana.\n",
      "xis.\n",
      "wan.\n",
      "jayley.\n",
      "nouk.\n",
      "afaixty.\n",
      "hazmet.\n",
      "zerrinn.\n",
      "ariak.\n",
      "kaylyn.\n",
      "josandristoryel.\n",
      "colie.\n",
      "arna.\n",
      "nah.\n",
      "araley.\n"
     ]
    }
   ],
   "source": [
    "# Sample from the model\n",
    "g= torch.Generator().manual_seed(2147473647 + 10)\n",
    "\n",
    "for _ in range(20):\n",
    "    out = []\n",
    "    context = [0] * block_size     # Initialize with all ...\n",
    "    while True:\n",
    "        emb = C[torch.tensor([context])]        # (1, block_size, n_embd)\n",
    "        embcat = emb.view(emb.shape[0], -1)     # concat into (N, block_size * n_embd)\n",
    "        h = torch.tanh(embcat @ W1 + b1)        # hidden layer activation (N, n_hidden)\n",
    "        logits = h @ W2 + b2                    # output layer activation (N, vocab_size)\n",
    "        probs = F.softmax(logits, dim=1)\n",
    "        # Sample from the distribution\n",
    "        idx = torch.multinomial(probs, num_samples=1, generator=g).item()\n",
    "        out.append(idx)\n",
    "        # Shift the context window\n",
    "        context = context[1:] + [idx]\n",
    "        # Break if we sample the special token '.'\n",
    "        if (idx == 0):\n",
    "            break\n",
    "            \n",
    "    # Decode and print the generated names\n",
    "    print(''.join(itos[i] for i in out))"
   ]
  },
  {
   "cell_type": "code",
   "execution_count": null,
   "id": "6cfe07f5",
   "metadata": {},
   "outputs": [],
   "source": [
    "# Issues with the neural network\n",
    "# Intial loss is very high ~28.887\n",
    "# This is because the weights and biases when initialized to random numbers take on very large values.\n",
    "# The first few epochs are spent squashing down these randomly initialized high weights.\n",
    "\n",
    "# Trick: Multiply the weights by 0.1 or 0.01"
   ]
  },
  {
   "cell_type": "code",
   "execution_count": 20,
   "id": "db3e9ba2",
   "metadata": {},
   "outputs": [],
   "source": [
    "# Set up the MLP (multi-layer perceptron)\n",
    "n_embd = 10     # Dimensionality of the character embedding vectors\n",
    "n_hidden = 200  # Number of neurons in the hidden layer of the MLP\n",
    "\n",
    "# Set up the network parameters\n",
    "g = torch.Generator().manual_seed(2147483647)\n",
    "C = torch.randn((vocab_size,n_embd), generator=g)\n",
    "W1 = torch.randn((n_embd*block_size, n_hidden), generator=g) * 0.3\n",
    "b1 = torch.randn(n_hidden, generator=g) * 0.01\n",
    "W2 = torch.randn((n_hidden,vocab_size), generator=g) * 0.3\n",
    "b2 = torch.randn(vocab_size, generator=g) * 0.01\n",
    "parameters = [C, W1, b1, W2, b2]"
   ]
  },
  {
   "cell_type": "code",
   "execution_count": 21,
   "id": "aaffd09b",
   "metadata": {},
   "outputs": [
    {
     "data": {
      "text/plain": [
       "11897"
      ]
     },
     "execution_count": 21,
     "metadata": {},
     "output_type": "execute_result"
    }
   ],
   "source": [
    "for p in parameters:\n",
    "    p.requires_grad = True\n",
    "    \n",
    "sum(p.nelement() for p in parameters) # Number of parameters"
   ]
  },
  {
   "cell_type": "code",
   "execution_count": 22,
   "id": "8ebf4a34",
   "metadata": {},
   "outputs": [
    {
     "name": "stdout",
     "output_type": "stream",
     "text": [
      "      0 /  200000 : 7.2157\n",
      "  10000 /  200000 : 2.0785\n",
      "  20000 /  200000 : 2.3764\n",
      "  30000 /  200000 : 2.4629\n",
      "  40000 /  200000 : 1.9597\n",
      "  50000 /  200000 : 2.4472\n",
      "  60000 /  200000 : 2.3848\n",
      "  70000 /  200000 : 2.1217\n",
      "  80000 /  200000 : 2.1824\n",
      "  90000 /  200000 : 2.1229\n",
      " 100000 /  200000 : 1.8579\n",
      " 110000 /  200000 : 2.1681\n",
      " 120000 /  200000 : 1.8689\n",
      " 130000 /  200000 : 2.4107\n",
      " 140000 /  200000 : 2.2492\n",
      " 150000 /  200000 : 2.1073\n",
      " 160000 /  200000 : 1.7896\n",
      " 170000 /  200000 : 1.7932\n",
      " 180000 /  200000 : 1.9447\n",
      " 190000 /  200000 : 1.7898\n"
     ]
    }
   ],
   "source": [
    "# Train the neural network\n",
    "\n",
    "max_steps = 200000\n",
    "batch_size = 32\n",
    "lossi = []\n",
    "\n",
    "for i in range(max_steps):\n",
    "    \n",
    "    # Construct minibatch\n",
    "    idx = torch.randint(0, Xtrg.shape[0], (batch_size,), generator=g)\n",
    "    Xb, Yb = Xtrg[idx], Ytrg[idx]     # batch X, Y\n",
    "\n",
    "    # Forward pass\n",
    "    emb = C[Xb] # Embed the characters into vectors\n",
    "    embcat = emb.view(emb.shape[0], -1) # Concatenate the vectors\n",
    "    hpreact = embcat @ W1 + b1 # hidden layer pre-activation\n",
    "    h = torch.tanh(hpreact) # hidden layer activation\n",
    "    logits = h @ W2 + b2 # output layer\n",
    "    loss = F.cross_entropy(logits, Yb) # loss function\n",
    "    \n",
    "    # Backward pass\n",
    "    for p in parameters:\n",
    "        p.grad = None\n",
    "    loss.backward()\n",
    "\n",
    "    # Parameter update\n",
    "    eta = 0.1 if i < max_steps/2 else 0.01\n",
    "    for p in parameters:\n",
    "        p.data += -eta * p.grad\n",
    "        \n",
    "    # Track progress statistics\n",
    "    if i % 10000 == 0:\n",
    "            print(f'{i:7d} / {max_steps:7d} : {loss.item():.4f}')\n",
    "        \n",
    "    lossi.append(loss.log10().item())\n",
    "\n",
    "# print(loss.item())"
   ]
  },
  {
   "cell_type": "code",
   "execution_count": 23,
   "id": "64c806dd",
   "metadata": {},
   "outputs": [
    {
     "data": {
      "text/plain": [
       "[<matplotlib.lines.Line2D at 0x7feb989e6bf0>]"
      ]
     },
     "execution_count": 23,
     "metadata": {},
     "output_type": "execute_result"
    },
    {
     "data": {
      "image/png": "[encoded data removed]",
      "text/plain": [
       "<Figure size 640x480 with 1 Axes>"
      ]
     },
     "metadata": {},
     "output_type": "display_data"
    }
   ],
   "source": [
    "# Plot the loss\n",
    "plt.plot(lossi)"
   ]
  },
  {
   "cell_type": "code",
   "execution_count": 24,
   "id": "5eaf9fa1",
   "metadata": {},
   "outputs": [
    {
     "name": "stdout",
     "output_type": "stream",
     "text": [
      "train 2.0425596237182617\n",
      "val 2.104320764541626\n"
     ]
    }
   ],
   "source": [
    "# Calculate training and validation loss\n",
    "\n",
    "calculate_split_loss('train')\n",
    "calculate_split_loss('val')"
   ]
  },
  {
   "cell_type": "code",
   "execution_count": null,
   "id": "8ce348c9",
   "metadata": {},
   "outputs": [],
   "source": [
    "# Notes:\n",
    "# The loss for the first epoch is 7.21\n",
    "# The training and validation losses are better than what we got previously with randomly initialized weights\n",
    "\n",
    "# The issue with the tanh activation function is that large values of pre-activation will result in tanh giving -1 or +1\n",
    "# Neurons where the activation is either -1 or +1 for all inputs are effectively deade neurons (with 0 gradient). These will not learn.\n",
    "# This is another reason to make sure that weight initialization is done carefully (like we did above)\n",
    "# There is a very principled way of weight initialization depending on the loss function that uses gain / sqrt(fan_in) as the multiplicative factor.\n",
    "\n",
    "# More recent innovations that we will discuss next make it less important to so carefully initialize the weights.\n",
    "\n",
    "# Video: 40:47\n"
   ]
  }
 ],
 "metadata": {
  "kernelspec": {
   "display_name": "Python 3 (ipykernel)",
   "language": "python",
   "name": "python3"
  },
  "language_info": {
   "codemirror_mode": {
    "name": "ipython",
    "version": 3
   },
   "file_extension": ".py",
   "mimetype": "text/x-python",
   "name": "python",
   "nbconvert_exporter": "python",
   "pygments_lexer": "ipython3",
   "version": "3.10.9"
  }
 },
 "nbformat": 4,
 "nbformat_minor": 5
}
