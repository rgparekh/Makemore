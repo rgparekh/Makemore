{
 "cells": [
  {
   "cell_type": "code",
   "execution_count": 2,
   "id": "0e94dacd",
   "metadata": {},
   "outputs": [],
   "source": [
    "import torch\n",
    "import torch.nn.functional as F\n",
    "import matplotlib.pyplot as plt\n",
    "%matplotlib inline"
   ]
  },
  {
   "cell_type": "code",
   "execution_count": 3,
   "id": "ecbc9dd4",
   "metadata": {},
   "outputs": [
    {
     "data": {
      "text/plain": [
       "['emma', 'olivia', 'ava', 'isabella', 'sophia', 'charlotte', 'mia', 'amelia']"
      ]
     },
     "execution_count": 3,
     "metadata": {},
     "output_type": "execute_result"
    }
   ],
   "source": [
    "# Read in the words\n",
    "words = open('/Users/rajesh/Documents/Datasets/names.txt', 'r').read().splitlines()\n",
    "words[:8]"
   ]
  },
  {
   "cell_type": "code",
   "execution_count": 4,
   "id": "2d68434b",
   "metadata": {},
   "outputs": [
    {
     "data": {
      "text/plain": [
       "32033"
      ]
     },
     "execution_count": 4,
     "metadata": {},
     "output_type": "execute_result"
    }
   ],
   "source": [
    "len(words)"
   ]
  },
  {
   "cell_type": "code",
   "execution_count": 5,
   "id": "a991470d",
   "metadata": {},
   "outputs": [
    {
     "name": "stdout",
     "output_type": "stream",
     "text": [
      "{1: 'a', 2: 'b', 3: 'c', 4: 'd', 5: 'e', 6: 'f', 7: 'g', 8: 'h', 9: 'i', 10: 'j', 11: 'k', 12: 'l', 13: 'm', 14: 'n', 15: 'o', 16: 'p', 17: 'q', 18: 'r', 19: 's', 20: 't', 21: 'u', 22: 'v', 23: 'w', 24: 'x', 25: 'y', 26: 'z', 0: '.'}\n",
      "27\n"
     ]
    }
   ],
   "source": [
    "# Build the vocabulary of characters and mappings to/from integers\n",
    "chars = sorted(list(set(''.join(words))))\n",
    "stoi = {s:i+1 for i,s in enumerate(chars)}\n",
    "stoi['.'] = 0\n",
    "itos = {i:s for s,i in stoi.items()}\n",
    "vocab_size = len(itos)\n",
    "print(itos)\n",
    "print(vocab_size)"
   ]
  },
  {
   "cell_type": "code",
   "execution_count": 6,
   "id": "b935f441",
   "metadata": {},
   "outputs": [
    {
     "name": "stdout",
     "output_type": "stream",
     "text": [
      "torch.Size([182625, 3]) torch.Size([182625])\n",
      "torch.Size([22655, 3]) torch.Size([22655])\n",
      "torch.Size([22866, 3]) torch.Size([22866])\n"
     ]
    }
   ],
   "source": [
    "# Build the dataset\n",
    "\n",
    "block_size = 3 # context length: how many characters do we take to predict the next one\n",
    "\n",
    "def build_dataset(words):\n",
    "\n",
    "    X, Y = [], []\n",
    "    for w in words:\n",
    "        context = [0] * block_size\n",
    "        for ch in w + '.':\n",
    "            idx = stoi[ch]\n",
    "            X.append(context)\n",
    "            Y.append(idx)\n",
    "            context = context[1:] + [idx] # crop and append\n",
    "            \n",
    "    X = torch.tensor(X)\n",
    "    Y = torch.tensor(Y)\n",
    "    print(X.shape, Y.shape)\n",
    "    return X,Y\n",
    "\n",
    "import random\n",
    "random.seed(42)\n",
    "random.shuffle(words)\n",
    "n1 = int(0.8*len(words))\n",
    "n2 = int(0.9*len(words))\n",
    "\n",
    "Xtrg, Ytrg = build_dataset(words[:n1])\n",
    "Xval, Yval = build_dataset(words[n1:n2])\n",
    "Xtst, Ytst = build_dataset(words[n2:])"
   ]
  },
  {
   "cell_type": "code",
   "execution_count": 7,
   "id": "72317172",
   "metadata": {},
   "outputs": [],
   "source": [
    "# Set up the MLP (multi-layer perceptron)\n",
    "n_embd = 10     # Dimensionality of the character embedding vectors\n",
    "n_hidden = 200  # Number of neurons in the hidden layer of the MLP\n",
    "\n",
    "# Set up the network parameters\n",
    "g = torch.Generator().manual_seed(2147483647)\n",
    "C = torch.randn((vocab_size,n_embd), generator=g)\n",
    "W1 = torch.randn((n_embd*block_size, n_hidden), generator=g)\n",
    "b1 = torch.randn(n_hidden, generator=g)\n",
    "W2 = torch.randn((n_hidden,vocab_size), generator=g)\n",
    "b2 = torch.randn(vocab_size, generator=g)\n",
    "parameters = [C, W1, b1, W2, b2]"
   ]
  },
  {
   "cell_type": "code",
   "execution_count": 8,
   "id": "36f20ff7",
   "metadata": {},
   "outputs": [],
   "source": [
    "for p in parameters:\n",
    "    p.requires_grad = True"
   ]
  },
  {
   "cell_type": "code",
   "execution_count": 9,
   "id": "897efb21",
   "metadata": {},
   "outputs": [
    {
     "data": {
      "text/plain": [
       "11897"
      ]
     },
     "execution_count": 9,
     "metadata": {},
     "output_type": "execute_result"
    }
   ],
   "source": [
    "sum(p.nelement() for p in parameters) # Number of parameters"
   ]
  },
  {
   "cell_type": "code",
   "execution_count": 10,
   "id": "483f3e0a",
   "metadata": {},
   "outputs": [
    {
     "name": "stdout",
     "output_type": "stream",
     "text": [
      "      0 /  200000 : 27.8817\n",
      "  10000 /  200000 : 2.9550\n",
      "  20000 /  200000 : 2.5960\n",
      "  30000 /  200000 : 2.8739\n",
      "  40000 /  200000 : 2.0954\n",
      "  50000 /  200000 : 2.4711\n",
      "  60000 /  200000 : 2.4224\n",
      "  70000 /  200000 : 2.1450\n",
      "  80000 /  200000 : 2.3150\n",
      "  90000 /  200000 : 2.3512\n",
      " 100000 /  200000 : 2.0754\n",
      " 110000 /  200000 : 2.4186\n",
      " 120000 /  200000 : 1.9340\n",
      " 130000 /  200000 : 2.4763\n",
      " 140000 /  200000 : 2.2390\n",
      " 150000 /  200000 : 2.1413\n",
      " 160000 /  200000 : 2.1554\n",
      " 170000 /  200000 : 1.8018\n",
      " 180000 /  200000 : 2.0026\n",
      " 190000 /  200000 : 1.8852\n"
     ]
    }
   ],
   "source": [
    "# Set up training of the neural network\n",
    "max_steps = 200000\n",
    "batch_size = 32\n",
    "lossi = []\n",
    "\n",
    "for i in range(max_steps):\n",
    "    \n",
    "    # Construct minibatch\n",
    "    idx = torch.randint(0, Xtrg.shape[0], (batch_size,), generator=g)\n",
    "    Xb, Yb = Xtrg[idx], Ytrg[idx]     # batch X, Y\n",
    "\n",
    "    # Forward pass\n",
    "    emb = C[Xb] # Embed the characters into vectors\n",
    "    embcat = emb.view(emb.shape[0], -1) # Concatenate the vectors\n",
    "    hpreact = embcat @ W1 + b1 # hidden layer pre-activation\n",
    "    h = torch.tanh(hpreact) # hidden layer activation\n",
    "    logits = h @ W2 + b2 # output layer\n",
    "    loss = F.cross_entropy(logits, Yb) # loss function\n",
    "    \n",
    "    # Backward pass\n",
    "    for p in parameters:\n",
    "        p.grad = None\n",
    "    loss.backward()\n",
    "\n",
    "    # Parameter update\n",
    "    eta = 0.1 if i < max_steps/2 else 0.01\n",
    "    for p in parameters:\n",
    "        p.data += -eta * p.grad\n",
    "        \n",
    "    # Track progress statistics\n",
    "    if i % 10000 == 0:\n",
    "            print(f'{i:7d} / {max_steps:7d} : {loss.item():.4f}')\n",
    "        \n",
    "    lossi.append(loss.log10().item())\n",
    "\n",
    "# print(loss.item())"
   ]
  },
  {
   "cell_type": "code",
   "execution_count": 11,
   "id": "3cd9c574",
   "metadata": {},
   "outputs": [
    {
     "data": {
      "text/plain": [
       "[<matplotlib.lines.Line2D at 0x7feb97924820>]"
      ]
     },
     "execution_count": 11,
     "metadata": {},
     "output_type": "execute_result"
    },
    {
     "data": {
      "image/png": "[encoded data removed]",
      "text/plain": [
       "<Figure size 640x480 with 1 Axes>"
      ]
     },
     "metadata": {},
     "output_type": "display_data"
    }
   ],
   "source": [
    "# Plot Steps against the Loss\n",
    "plt.plot(lossi)"
   ]
  },
  {
   "cell_type": "code",
   "execution_count": 12,
   "id": "8ffa3810",
   "metadata": {},
   "outputs": [
    {
     "name": "stdout",
     "output_type": "stream",
     "text": [
      "train 2.1276285648345947\n",
      "val 2.172778606414795\n"
     ]
    }
   ],
   "source": [
    "# Calculate the training and validation set loss\n",
    "\n",
    "@torch.no_grad()     # Decorator to tell PyTorch that the code below does not require bookkeeping for gradients\n",
    "                     # This improves execution efficiency\n",
    "    \n",
    "def calculate_split_loss(split):\n",
    "    x,y = {\n",
    "        'train': (Xtrg, Ytrg),\n",
    "        'val': (Xval, Yval),\n",
    "        'test': (Xtst, Ytst)\n",
    "    }[split]\n",
    "    \n",
    "    emb = C[x]     # (N, block_size, n_embd)\n",
    "    embcat = emb.view(emb.shape[0], -1)     # concat into (N, block_size * n_embd)\n",
    "    h = torch.tanh(embcat @ W1 + b1)        # hidden layer activation (N, n_hidden)\n",
    "    logits = h @ W2 + b2                    # output layer activation (N, vocab_size)\n",
    "    loss = F.cross_entropy(logits, y)\n",
    "    print(split, loss.item())\n",
    "    \n",
    "calculate_split_loss('train')\n",
    "calculate_split_loss('val')\n",
    "\n",
    "    \n",
    "    "
   ]
  },
  {
   "cell_type": "code",
   "execution_count": 14,
   "id": "73319134",
   "metadata": {},
   "outputs": [
    {
     "name": "stdout",
     "output_type": "stream",
     "text": [
      "mazili.\n",
      "nestoruetton.\n",
      "xadal.\n",
      "meran.\n",
      "semy.\n",
      "keana.\n",
      "xis.\n",
      "wan.\n",
      "jayley.\n",
      "nouk.\n",
      "afaixty.\n",
      "hazmet.\n",
      "zerrinn.\n",
      "ariak.\n",
      "kaylyn.\n",
      "josandristoryel.\n",
      "colie.\n",
      "arna.\n",
      "nah.\n",
      "araley.\n"
     ]
    }
   ],
   "source": [
    "# Sample from the model\n",
    "g= torch.Generator().manual_seed(2147473647 + 10)\n",
    "\n",
    "for _ in range(20):\n",
    "    out = []\n",
    "    context = [0] * block_size     # Initialize with all ...\n",
    "    while True:\n",
    "        emb = C[torch.tensor([context])]        # (1, block_size, n_embd)\n",
    "        embcat = emb.view(emb.shape[0], -1)     # concat into (N, block_size * n_embd)\n",
    "        h = torch.tanh(embcat @ W1 + b1)        # hidden layer activation (N, n_hidden)\n",
    "        logits = h @ W2 + b2                    # output layer activation (N, vocab_size)\n",
    "        probs = F.softmax(logits, dim=1)\n",
    "        # Sample from the distribution\n",
    "        idx = torch.multinomial(probs, num_samples=1, generator=g).item()\n",
    "        out.append(idx)\n",
    "        # Shift the context window\n",
    "        context = context[1:] + [idx]\n",
    "        # Break if we sample the special token '.'\n",
    "        if (idx == 0):\n",
    "            break\n",
    "            \n",
    "    # Decode and print the generated names\n",
    "    print(''.join(itos[i] for i in out))"
   ]
  },
  {
   "cell_type": "code",
   "execution_count": null,
   "id": "66533269",
   "metadata": {},
   "outputs": [],
   "source": [
    "# Issues with the neural network\n",
    "# Intial loss is very high ~28.887\n",
    "# This is because the weights and biases when initialized to random numbers take on very large values.\n",
    "# The first few epochs are spent squashing down these randomly initialized high weights.\n",
    "\n",
    "# Trick: Multiply the weights by 0.1 or 0.01"
   ]
  },
  {
   "cell_type": "code",
   "execution_count": 20,
   "id": "c757d676",
   "metadata": {},
   "outputs": [],
   "source": [
    "# Set up the MLP (multi-layer perceptron)\n",
    "n_embd = 10     # Dimensionality of the character embedding vectors\n",
    "n_hidden = 200  # Number of neurons in the hidden layer of the MLP\n",
    "\n",
    "# Set up the network parameters\n",
    "g = torch.Generator().manual_seed(2147483647)\n",
    "C = torch.randn((vocab_size,n_embd), generator=g)\n",
    "W1 = torch.randn((n_embd*block_size, n_hidden), generator=g) * 0.3\n",
    "b1 = torch.randn(n_hidden, generator=g) * 0.01\n",
    "W2 = torch.randn((n_hidden,vocab_size), generator=g) * 0.1\n",
    "b2 = torch.randn(vocab_size, generator=g) * 0.01\n",
    "parameters = [C, W1, b1, W2, b2]"
   ]
  },
  {
   "cell_type": "code",
   "execution_count": 21,
   "id": "154b9113",
   "metadata": {},
   "outputs": [
    {
     "data": {
      "text/plain": [
       "11897"
      ]
     },
     "execution_count": 21,
     "metadata": {},
     "output_type": "execute_result"
    }
   ],
   "source": [
    "for p in parameters:\n",
    "    p.requires_grad = True\n",
    "    \n",
    "sum(p.nelement() for p in parameters) # Number of parameters"
   ]
  },
  {
   "cell_type": "code",
   "execution_count": 22,
   "id": "373040f7",
   "metadata": {},
   "outputs": [
    {
     "name": "stdout",
     "output_type": "stream",
     "text": [
      "      0 /  200000 : 7.2157\n",
      "  10000 /  200000 : 2.0785\n",
      "  20000 /  200000 : 2.3764\n",
      "  30000 /  200000 : 2.4629\n",
      "  40000 /  200000 : 1.9597\n",
      "  50000 /  200000 : 2.4472\n",
      "  60000 /  200000 : 2.3848\n",
      "  70000 /  200000 : 2.1217\n",
      "  80000 /  200000 : 2.1824\n",
      "  90000 /  200000 : 2.1229\n",
      " 100000 /  200000 : 1.8579\n",
      " 110000 /  200000 : 2.1681\n",
      " 120000 /  200000 : 1.8689\n",
      " 130000 /  200000 : 2.4107\n",
      " 140000 /  200000 : 2.2492\n",
      " 150000 /  200000 : 2.1073\n",
      " 160000 /  200000 : 1.7896\n",
      " 170000 /  200000 : 1.7932\n",
      " 180000 /  200000 : 1.9447\n",
      " 190000 /  200000 : 1.7898\n"
     ]
    }
   ],
   "source": [
    "# Train the neural network\n",
    "\n",
    "max_steps = 200000\n",
    "batch_size = 32\n",
    "lossi = []\n",
    "\n",
    "for i in range(max_steps):\n",
    "    \n",
    "    # Construct minibatch\n",
    "    idx = torch.randint(0, Xtrg.shape[0], (batch_size,), generator=g)\n",
    "    Xb, Yb = Xtrg[idx], Ytrg[idx]     # batch X, Y\n",
    "\n",
    "    # Forward pass\n",
    "    emb = C[Xb] # Embed the characters into vectors\n",
    "    embcat = emb.view(emb.shape[0], -1) # Concatenate the vectors\n",
    "    hpreact = embcat @ W1 + b1 # hidden layer pre-activation\n",
    "    h = torch.tanh(hpreact) # hidden layer activation\n",
    "    logits = h @ W2 + b2 # output layer\n",
    "    loss = F.cross_entropy(logits, Yb) # loss function\n",
    "    \n",
    "    # Backward pass\n",
    "    for p in parameters:\n",
    "        p.grad = None\n",
    "    loss.backward()\n",
    "\n",
    "    # Parameter update\n",
    "    eta = 0.1 if i < max_steps/2 else 0.01\n",
    "    for p in parameters:\n",
    "        p.data += -eta * p.grad\n",
    "        \n",
    "    # Track progress statistics\n",
    "    if i % 10000 == 0:\n",
    "            print(f'{i:7d} / {max_steps:7d} : {loss.item():.4f}')\n",
    "        \n",
    "    lossi.append(loss.log10().item())\n",
    "\n",
    "# print(loss.item())"
   ]
  },
  {
   "cell_type": "code",
   "execution_count": 43,
   "id": "82617097",
   "metadata": {},
   "outputs": [
    {
     "data": {
      "text/plain": [
       "[<matplotlib.lines.Line2D at 0x7feb6cf6d780>]"
      ]
     },
     "execution_count": 43,
     "metadata": {},
     "output_type": "execute_result"
    },
    {
     "data": {
      "image/png": "[encoded data removed]",
      "text/plain": [
       "<Figure size 640x480 with 1 Axes>"
      ]
     },
     "metadata": {},
     "output_type": "display_data"
    }
   ],
   "source": [
    "# Plot the loss\n",
    "plt.plot(lossi)"
   ]
  },
  {
   "cell_type": "code",
   "execution_count": 44,
   "id": "81ce77c3",
   "metadata": {},
   "outputs": [
    {
     "name": "stdout",
     "output_type": "stream",
     "text": [
      "train 2.0870563983917236\n",
      "val 2.11906099319458\n"
     ]
    }
   ],
   "source": [
    "# Calculate training and validation loss\n",
    "\n",
    "calculate_split_loss('train')\n",
    "calculate_split_loss('val')"
   ]
  },
  {
   "cell_type": "code",
   "execution_count": null,
   "id": "48e78daa",
   "metadata": {},
   "outputs": [],
   "source": [
    "# Notes:\n",
    "# The loss for the first epoch is 7.21\n",
    "# The training and validation losses are better than what we got previously with randomly initialized weights\n",
    "\n",
    "# The issue with the tanh activation function is that large values of pre-activation will result in tanh giving -1 or +1\n",
    "# Neurons where the activation is either -1 or +1 for all inputs are effectively deade neurons (with 0 gradient). These will not learn.\n",
    "# This is another reason to make sure that weight initialization is done carefully (like we did above)\n",
    "# There is a very principled way of weight initialization depending on the loss function that uses gain / sqrt(fan_in) as the multiplicative factor.\n",
    "\n",
    "# More recent innovations that we will discuss next make it less important to so carefully initialize the weights.\n",
    "\n",
    "# Video: 40:47\n"
   ]
  },
  {
   "cell_type": "code",
   "execution_count": 26,
   "id": "d3e16ca4",
   "metadata": {},
   "outputs": [
    {
     "data": {
      "text/plain": [
       "torch.Size([32, 200])"
      ]
     },
     "execution_count": 26,
     "metadata": {},
     "output_type": "execute_result"
    }
   ],
   "source": [
    "# Let's examine the hpreact\n",
    "# hpreact takes the size of the batch (32 examples) X the number of hidden layer neurons (200)\n",
    "hpreact.shape"
   ]
  },
  {
   "cell_type": "code",
   "execution_count": 27,
   "id": "d5727068",
   "metadata": {},
   "outputs": [
    {
     "data": {
      "text/plain": [
       "torch.Size([1, 200])"
      ]
     },
     "execution_count": 27,
     "metadata": {},
     "output_type": "execute_result"
    }
   ],
   "source": [
    "# Mean and std of the hpreact\n",
    "# Calculate over the 0th dimension; keepdim=True for broadcasting\n",
    "hpreact.mean(0, keepdim=True).shape"
   ]
  },
  {
   "cell_type": "code",
   "execution_count": 28,
   "id": "f09b0fc7",
   "metadata": {},
   "outputs": [
    {
     "data": {
      "text/plain": [
       "torch.Size([1, 200])"
      ]
     },
     "execution_count": 28,
     "metadata": {},
     "output_type": "execute_result"
    }
   ],
   "source": [
    "hpreact.std(0, keepdim=True).shape"
   ]
  },
  {
   "cell_type": "code",
   "execution_count": 55,
   "id": "9d6edafd",
   "metadata": {},
   "outputs": [],
   "source": [
    "# Set up the MLP (multi-layer perceptron)\n",
    "n_embd = 10     # Dimensionality of the character embedding vectors\n",
    "n_hidden = 200  # Number of neurons in the hidden layer of the MLP\n",
    "\n",
    "# Set up the network parameters\n",
    "g = torch.Generator().manual_seed(2147483647)\n",
    "C = torch.randn((vocab_size,n_embd), generator=g)\n",
    "W1 = torch.randn((n_embd*block_size, n_hidden), generator=g) * 0.3\n",
    "b1 = torch.randn(n_hidden, generator=g) * 0.01\n",
    "W2 = torch.randn((n_hidden,vocab_size), generator=g) * 0.1\n",
    "b2 = torch.randn(vocab_size, generator=g) * 0.01\n",
    "# Batch Normalization hyperparameters\n",
    "bngain = torch.ones(1,n_hidden)\n",
    "bnbias = torch.zeros(1,n_hidden)\n",
    "\n",
    "# Running mean and std of the batch normalization; 0 mean and 1 std\n",
    "bnmean_running = torch.zeros(1,n_hidden)\n",
    "bnstd_running = torch.ones(1,n_hidden)\n",
    "\n",
    "parameters = [C, W1, b1, W2, b2, bngain, bnbias]\n"
   ]
  },
  {
   "cell_type": "code",
   "execution_count": 56,
   "id": "c8b57e0e",
   "metadata": {},
   "outputs": [
    {
     "data": {
      "text/plain": [
       "12297"
      ]
     },
     "execution_count": 56,
     "metadata": {},
     "output_type": "execute_result"
    }
   ],
   "source": [
    "for p in parameters:\n",
    "    p.requires_grad = True\n",
    "    \n",
    "sum(p.nelement() for p in parameters) # Number of parameters"
   ]
  },
  {
   "cell_type": "code",
   "execution_count": 57,
   "id": "b3432128",
   "metadata": {},
   "outputs": [
    {
     "name": "stdout",
     "output_type": "stream",
     "text": [
      "      0 /  200000 : 3.7606\n",
      "  10000 /  200000 : 2.1743\n",
      "  20000 /  200000 : 2.4096\n",
      "  30000 /  200000 : 2.4453\n",
      "  40000 /  200000 : 1.9734\n",
      "  50000 /  200000 : 2.3715\n",
      "  60000 /  200000 : 2.4189\n",
      "  70000 /  200000 : 2.0394\n",
      "  80000 /  200000 : 2.3972\n",
      "  90000 /  200000 : 2.1468\n",
      " 100000 /  200000 : 1.9343\n",
      " 110000 /  200000 : 2.3680\n",
      " 120000 /  200000 : 2.0137\n",
      " 130000 /  200000 : 2.4634\n",
      " 140000 /  200000 : 2.3123\n",
      " 150000 /  200000 : 2.1483\n",
      " 160000 /  200000 : 1.9656\n",
      " 170000 /  200000 : 1.7987\n",
      " 180000 /  200000 : 2.0165\n",
      " 190000 /  200000 : 1.9374\n"
     ]
    }
   ],
   "source": [
    "# Batch Normalization Reference: \n",
    "# Batch Normalization: Accelerating Deep Network Training by Reducing Internal Covariance Shift by Ioffe S. and Szegedy, C. Google 2015\n",
    "# Makes it possible to train deep neural networks very reliably\n",
    "# Main idea: Normalize the hidden layer pre-activations to a Gaussian distribution (i.e., zero mean and 1 STD).\n",
    "# Batch normalization has a hidden (or serendipitous) regularizing effect due to which we haven't been able to remove it.\n",
    "# Batch normalization layers are sprinkled through the deep neural network typically following linear layers or convolutional layers.\n",
    "\n",
    "# Train the neural network with Batch Normalization\n",
    "\n",
    "max_steps = 200000\n",
    "batch_size = 32\n",
    "epsilon = 0.001\n",
    "lossi = []\n",
    "\n",
    "for i in range(max_steps):\n",
    "    \n",
    "    # Construct minibatch\n",
    "    idx = torch.randint(0, Xtrg.shape[0], (batch_size,), generator=g)\n",
    "    Xb, Yb = Xtrg[idx], Ytrg[idx]     # batch X, Y\n",
    "\n",
    "    # Forward pass\n",
    "    emb = C[Xb] # Embed the characters into vectors\n",
    "    embcat = emb.view(emb.shape[0], -1) # Concatenate the vectors\n",
    "    \n",
    "    # Note: In practice when we use the batch normalization layer, the bias b1 is actually being subtracted out\n",
    "    # when we do hpreact - bmeani\n",
    "    # Technically, linear or convolution layers that are followed by batch normalization don't need a bias term.\n",
    "    # The bnbias (batch normalization bias will take care of biasing the output as necessary.\n",
    "    \n",
    "    # Deep neural networks typically have stacked blocks of the following 3 layers:\n",
    "        # A linear or convolutional layer\n",
    "        # A batch normalization layer\n",
    "        # A non-linear layer e.g., tanh or relu\n",
    "        \n",
    "    hpreact = embcat @ W1 + b1 # hidden layer pre-activation\n",
    "    \n",
    "    # Normalize the hpreact\n",
    "    bnmeani = hpreact.mean(0, keepdim=True)\n",
    "    bnstdi = hpreact.std(0, keepdim=True)\n",
    "    \n",
    "    # Note: the +epsilon is a trick to prevent division by 0 in the event that the batch has a 0 std\n",
    "    hpreact = (hpreact - bnmeani)/(bnstdi+epsilon)\n",
    "    \n",
    "    with torch.no_grad():\n",
    "        bnmean_running = 0.999 * bnmean_running + 0.001 * bnmeani\n",
    "        bnstd_running = 0.999 * bnstd_running + 0.001 * bnstdi\n",
    "    \n",
    "    # Scale and shift the hpreact\n",
    "    hpreact = bngain * hpreact + bnbias\n",
    "    \n",
    "    h = torch.tanh(hpreact) # hidden layer activation\n",
    "    logits = h @ W2 + b2 # output layer\n",
    "    loss = F.cross_entropy(logits, Yb) # loss function\n",
    "    \n",
    "    # Backward pass\n",
    "    for p in parameters:\n",
    "        p.grad = None\n",
    "    loss.backward()\n",
    "\n",
    "    # Parameter update\n",
    "    eta = 0.1 if i < max_steps/2 else 0.01\n",
    "    for p in parameters:\n",
    "        p.data += -eta * p.grad\n",
    "        \n",
    "    # Track progress statistics\n",
    "    if i % 10000 == 0:\n",
    "            print(f'{i:7d} / {max_steps:7d} : {loss.item():.4f}')\n",
    "        \n",
    "    lossi.append(loss.log10().item())\n",
    "\n",
    "# print(loss.item())"
   ]
  },
  {
   "cell_type": "code",
   "execution_count": 58,
   "id": "eabc1aaf",
   "metadata": {},
   "outputs": [
    {
     "data": {
      "text/plain": [
       "[<matplotlib.lines.Line2D at 0x7feb96d9ef50>]"
      ]
     },
     "execution_count": 58,
     "metadata": {},
     "output_type": "execute_result"
    },
    {
     "data": {
      "image/png": "[encoded data removed]",
      "text/plain": [
       "<Figure size 640x480 with 1 Axes>"
      ]
     },
     "metadata": {},
     "output_type": "display_data"
    }
   ],
   "source": [
    "# Plot the loss\n",
    "plt.plot(lossi)"
   ]
  },
  {
   "cell_type": "code",
   "execution_count": 60,
   "id": "756b8f9a",
   "metadata": {},
   "outputs": [],
   "source": [
    "# Calibrate the batch normalization statistics\n",
    "\n",
    "# In practice we will calculate bnmean and bnstd as part of the training process itself as opposed to a post processing step\n",
    "# See the computation of bnmean_running and bnmean_std\n",
    "# Given those two we don't need this post processing step any longer.\n",
    "\n",
    "with torch.no_grad():\n",
    "    # Do a forward pass through the training set\n",
    "    emb = C[Xtrg]\n",
    "    embcat = emb.view(emb.shape[0], -1)\n",
    "    hpreact = embcat @ W1 + b1\n",
    "    \n",
    "    # Measure the mean and standard deviation over the entire training set\n",
    "    bnmean = hpreact.mean(0, keepdim=True)\n",
    "    bnstd = hpreact.std(0, keepdim=True)"
   ]
  },
  {
   "cell_type": "code",
   "execution_count": 61,
   "id": "a4b9fe1e",
   "metadata": {},
   "outputs": [
    {
     "name": "stdout",
     "output_type": "stream",
     "text": [
      "Running bn mean =  tensor([[-2.6382,  0.4997, -1.1216,  1.7707,  1.4710,  1.0265,  3.1930, -2.2119,\n",
      "          0.2754,  2.2594, -1.7007, -2.4569, -0.3057, -0.4924, -1.1915, -0.0725,\n",
      "          1.2977, -3.1257, -0.2751,  1.6390, -0.5537, -0.2362,  0.6417,  0.8748,\n",
      "          1.6148,  0.6528,  2.2342,  0.4815, -0.6995,  2.5032,  1.0200, -0.9064,\n",
      "         -0.3400,  0.4844, -0.3099, -0.3734, -1.2450, -0.0759, -0.7493,  1.1143,\n",
      "         -0.7477, -1.2539, -0.8855, -0.5794,  1.2648,  1.2919,  1.2440, -0.9035,\n",
      "          2.4199,  0.9934, -0.2171,  0.0810,  2.2255,  1.4425,  0.6078, -2.3665,\n",
      "         -0.2632, -0.0120,  0.7370, -1.2966, -0.4456,  1.1140,  1.9546,  0.2783,\n",
      "          1.9021,  1.4024, -0.7127,  1.4324, -0.7439, -0.1224, -0.2504, -0.5484,\n",
      "          1.3495, -1.9634, -2.2044, -0.1225,  0.7970,  0.3531,  1.5397,  1.1394,\n",
      "          0.2771,  1.2460,  2.3193,  0.8328,  0.6375, -0.3931, -1.3978,  0.5449,\n",
      "          2.3116,  0.4911, -0.6135, -0.1172, -0.6234, -0.1772, -1.0089,  0.2616,\n",
      "         -0.3242, -0.7440, -1.1163, -1.3020,  0.5345,  0.3008, -1.5496, -0.6427,\n",
      "          0.6964,  0.2488, -1.2169, -1.1615,  1.2367, -1.6493,  1.3478,  0.3308,\n",
      "         -0.6920,  2.6781,  1.2414,  1.5051, -0.0707,  0.0843, -0.8275, -1.5156,\n",
      "         -0.8243, -1.0206,  1.3665,  2.5684, -0.8272, -0.0309, -0.9276, -0.2477,\n",
      "         -0.8108, -1.1732,  1.7822, -0.8812, -0.4902,  0.8792,  0.9581,  1.9390,\n",
      "         -0.2642,  0.9298,  0.9087,  0.5698, -0.1190,  1.6921,  1.3830, -0.3920,\n",
      "          3.2163,  1.2334,  0.5971, -1.3861,  1.0063,  0.6559,  0.7544,  0.6178,\n",
      "          1.4794,  2.3763,  0.9353, -0.7092,  2.0793, -1.5925,  0.4729,  0.8648,\n",
      "          0.8276,  0.0138,  0.5026,  0.1145, -0.4397,  0.6304, -0.3945,  1.2713,\n",
      "         -0.4849, -0.7823,  0.0068, -0.9744, -0.1911, -0.5589, -0.5932,  0.2387,\n",
      "          1.3593, -0.8752, -0.2118, -1.1678,  2.4820,  0.5131,  0.6903,  0.0314,\n",
      "          0.2816,  0.6096, -0.8121, -0.3252,  1.9524,  1.0257, -0.2989,  1.3900,\n",
      "          0.0287,  0.7434,  0.9181,  1.4927,  0.8915, -1.5742, -0.1164,  0.9863]])\n",
      "bnmean post process =  tensor([[-2.6289,  0.4884, -1.1160,  1.7655,  1.4655,  1.0323,  3.1950, -2.2016,\n",
      "          0.2871,  2.2748, -1.6831, -2.4477, -0.3032, -0.4906, -1.1982, -0.0923,\n",
      "          1.2846, -3.1235, -0.2576,  1.6518, -0.5522, -0.2457,  0.6490,  0.8652,\n",
      "          1.6092,  0.6594,  2.2220,  0.4875, -0.6958,  2.4936,  1.0280, -0.8998,\n",
      "         -0.3378,  0.4831, -0.3141, -0.3755, -1.2434, -0.0706, -0.7639,  1.0992,\n",
      "         -0.7377, -1.2309, -0.8822, -0.5771,  1.2683,  1.2925,  1.2392, -0.8937,\n",
      "          2.4327,  1.0000, -0.1988,  0.0978,  2.2311,  1.4275,  0.6099, -2.3672,\n",
      "         -0.2662, -0.0110,  0.7355, -1.2902, -0.4325,  1.1184,  1.9596,  0.2796,\n",
      "          1.9030,  1.4081, -0.7066,  1.4230, -0.7471, -0.1301, -0.2478, -0.5400,\n",
      "          1.3490, -1.9734, -2.2079, -0.1120,  0.7881,  0.3487,  1.5354,  1.1397,\n",
      "          0.2712,  1.2546,  2.3223,  0.8289,  0.6422, -0.3919, -1.3953,  0.5453,\n",
      "          2.3199,  0.4645, -0.6038, -0.1283, -0.6235, -0.1769, -1.0014,  0.2587,\n",
      "         -0.3127, -0.7392, -1.0971, -1.3083,  0.5298,  0.2947, -1.5471, -0.6314,\n",
      "          0.6973,  0.2429, -1.2294, -1.1603,  1.2339, -1.6461,  1.3650,  0.3126,\n",
      "         -0.6790,  2.6817,  1.2265,  1.5169, -0.0536,  0.0886, -0.8222, -1.5158,\n",
      "         -0.8140, -1.0304,  1.3678,  2.5559, -0.8274, -0.0286, -0.9080, -0.2453,\n",
      "         -0.8146, -1.1818,  1.8072, -0.8853, -0.4998,  0.8796,  0.9547,  1.9268,\n",
      "         -0.2578,  0.9403,  0.9127,  0.5731, -0.1237,  1.6929,  1.3721, -0.3820,\n",
      "          3.2211,  1.2307,  0.5875, -1.3820,  1.0110,  0.6538,  0.7623,  0.5945,\n",
      "          1.4781,  2.3774,  0.9365, -0.7129,  2.0860, -1.5888,  0.4710,  0.8793,\n",
      "          0.8377,  0.0055,  0.5033,  0.1127, -0.4324,  0.6366, -0.4000,  1.2766,\n",
      "         -0.4881, -0.7753,  0.0238, -0.9664, -0.2056, -0.5773, -0.5804,  0.2278,\n",
      "          1.3644, -0.8857, -0.2178, -1.1766,  2.4879,  0.5088,  0.6948,  0.0485,\n",
      "          0.2850,  0.6131, -0.8083, -0.3175,  1.9365,  1.0355, -0.3055,  1.3923,\n",
      "          0.0375,  0.7433,  0.9183,  1.4979,  0.8875, -1.5826, -0.1078,  0.9938]])\n",
      "Running bn std =  tensor([[2.3302, 2.1108, 2.0725, 1.9155, 2.3221, 2.3641, 2.1263, 2.4513, 2.1884,\n",
      "         1.9701, 2.7104, 1.9741, 1.9603, 2.2249, 2.0205, 2.7379, 2.2114, 1.9607,\n",
      "         2.3475, 2.5982, 1.9617, 2.2886, 2.2911, 2.2684, 1.7604, 2.0605, 2.0900,\n",
      "         2.4416, 2.3919, 2.5158, 1.9077, 1.7730, 2.1262, 2.1598, 1.6227, 2.0685,\n",
      "         2.1408, 2.2463, 1.9452, 1.9728, 2.3747, 2.0390, 2.2417, 1.8013, 2.0892,\n",
      "         1.9065, 1.8566, 1.7661, 2.6243, 2.4349, 2.1443, 1.8291, 2.2290, 1.8148,\n",
      "         2.2403, 1.9483, 1.8587, 2.2104, 2.4485, 1.9748, 2.2974, 2.1006, 1.8561,\n",
      "         2.1515, 2.2763, 2.3072, 1.8890, 2.3289, 2.1296, 2.1595, 2.4747, 1.9440,\n",
      "         2.1093, 2.0979, 1.8660, 1.8411, 2.2122, 2.2841, 1.8193, 1.7590, 2.0380,\n",
      "         1.7495, 2.1042, 2.1045, 2.3830, 1.9150, 1.7869, 2.1531, 2.4760, 3.0418,\n",
      "         1.9945, 1.9162, 2.3394, 2.0085, 2.3148, 2.2675, 2.0844, 2.3652, 2.3747,\n",
      "         1.9900, 1.6783, 1.9442, 2.1612, 2.1349, 1.5354, 2.2098, 1.4490, 1.8810,\n",
      "         1.9477, 2.0696, 2.3665, 2.1847, 1.7548, 2.0092, 2.1204, 2.1634, 2.2000,\n",
      "         2.0199, 1.8506, 2.1848, 2.2954, 2.4321, 1.8281, 2.2462, 2.0162, 1.7472,\n",
      "         2.0214, 2.0742, 1.5779, 2.2009, 1.7467, 2.3188, 2.0037, 1.8470, 2.3546,\n",
      "         2.1249, 2.2219, 2.1828, 1.8369, 1.9429, 2.5095, 2.2118, 2.2788, 2.2607,\n",
      "         2.0777, 2.2395, 2.0559, 2.0499, 1.9735, 1.8650, 1.9026, 2.2063, 1.4665,\n",
      "         2.0967, 1.9625, 2.3695, 2.0375, 1.7803, 1.9218, 1.6539, 2.3256, 1.7983,\n",
      "         2.0199, 2.3884, 1.6000, 2.0401, 1.9579, 1.9161, 1.4642, 1.8409, 1.6382,\n",
      "         2.2777, 1.9774, 1.9010, 2.2646, 2.2309, 2.1727, 1.9009, 1.6234, 2.0714,\n",
      "         2.4418, 1.6867, 2.2414, 2.0506, 1.9359, 1.9000, 2.4828, 2.1737, 2.7265,\n",
      "         2.2014, 1.4023, 1.9532, 1.8456, 1.5496, 2.0300, 2.4019, 2.0949, 2.5307,\n",
      "         2.1749, 1.5871]])\n",
      "bnstd post process =  tensor([[2.3537, 2.1326, 2.0942, 1.9491, 2.3582, 2.4027, 2.1376, 2.4842, 2.2101,\n",
      "         2.0012, 2.7317, 2.0036, 1.9808, 2.2442, 2.0438, 2.7606, 2.2320, 1.9805,\n",
      "         2.3812, 2.6144, 1.9767, 2.3232, 2.3160, 2.2922, 1.7837, 2.0867, 2.1201,\n",
      "         2.4683, 2.4073, 2.5479, 1.9252, 1.7821, 2.1437, 2.1830, 1.6257, 2.0787,\n",
      "         2.1516, 2.2732, 1.9653, 1.9876, 2.3994, 2.0659, 2.2754, 1.8352, 2.1069,\n",
      "         1.9290, 1.8891, 1.7995, 2.6434, 2.4559, 2.1761, 1.8588, 2.2530, 1.8250,\n",
      "         2.2630, 1.9731, 1.8781, 2.2246, 2.4714, 2.0056, 2.3227, 2.1184, 1.8755,\n",
      "         2.1812, 2.3044, 2.3388, 1.9046, 2.3587, 2.1582, 2.1873, 2.5018, 1.9596,\n",
      "         2.1328, 2.1123, 1.8867, 1.8586, 2.2335, 2.2996, 1.8348, 1.7755, 2.0571,\n",
      "         1.7707, 2.1224, 2.1438, 2.4045, 1.9499, 1.8071, 2.1809, 2.4824, 3.0494,\n",
      "         2.0293, 1.9314, 2.3494, 2.0207, 2.3172, 2.2959, 2.1071, 2.4029, 2.4077,\n",
      "         2.0094, 1.7036, 1.9653, 2.1866, 2.1620, 1.5577, 2.2306, 1.4645, 1.9112,\n",
      "         1.9631, 2.0956, 2.4088, 2.2067, 1.7774, 2.0345, 2.1305, 2.1802, 2.2249,\n",
      "         2.0490, 1.8716, 2.2047, 2.3327, 2.4521, 1.8441, 2.2639, 2.0488, 1.7724,\n",
      "         2.0455, 2.1031, 1.5939, 2.2222, 1.7604, 2.3475, 2.0347, 1.8491, 2.3788,\n",
      "         2.1549, 2.2539, 2.1921, 1.8565, 1.9779, 2.5324, 2.2326, 2.2921, 2.2890,\n",
      "         2.1036, 2.2847, 2.0671, 2.0706, 1.9885, 1.8842, 1.9266, 2.2248, 1.4845,\n",
      "         2.1368, 1.9805, 2.3979, 2.0648, 1.8040, 1.9519, 1.6734, 2.3376, 1.8107,\n",
      "         2.0448, 2.4246, 1.6168, 2.0718, 1.9870, 1.9318, 1.4811, 1.8650, 1.6520,\n",
      "         2.2984, 2.0099, 1.9239, 2.2781, 2.2574, 2.2105, 1.9274, 1.6420, 2.0927,\n",
      "         2.4958, 1.6997, 2.2819, 2.0653, 1.9532, 1.9276, 2.5231, 2.2033, 2.7299,\n",
      "         2.2171, 1.4106, 1.9856, 1.8739, 1.5675, 2.0538, 2.4341, 2.1073, 2.5586,\n",
      "         2.1885, 1.6071]])\n"
     ]
    }
   ],
   "source": [
    "print('Running bn mean = ', bnmean_running)\n",
    "print('bnmean post process = ', bnmean)\n",
    "print('Running bn std = ', bnstd_running)\n",
    "print('bnstd post process = ', bnstd)"
   ]
  },
  {
   "cell_type": "code",
   "execution_count": 62,
   "id": "83270f9c",
   "metadata": {},
   "outputs": [
    {
     "name": "stdout",
     "output_type": "stream",
     "text": [
      "train 2.0708489418029785\n",
      "val 2.109968662261963\n"
     ]
    }
   ],
   "source": [
    "# Calculate the training and validation set loss\n",
    "\n",
    "@torch.no_grad()     # Decorator to tell PyTorch that the code below does not require bookkeeping for gradients\n",
    "                     # This improves execution efficiency\n",
    "    \n",
    "def calculate_split_loss(split):\n",
    "    x,y = {\n",
    "        'train': (Xtrg, Ytrg),\n",
    "        'val': (Xval, Yval),\n",
    "        'test': (Xtst, Ytst)\n",
    "    }[split]\n",
    "    \n",
    "    emb = C[x]     # (N, block_size, n_embd)\n",
    "    embcat = emb.view(emb.shape[0], -1)     # concat into (N, block_size * n_embd)\n",
    "    hpreact = embcat @ W1 + b1 # hidden layer pre-activation\n",
    "    \n",
    "    # Normalize the hpreact\n",
    "    # hpreact = (hpreact - hpreact.mean(0, keepdim=True))/hpreact.std(0, keepdim=True)\n",
    "    \n",
    "    # Use the bnmean and bnstd estimated over the training set\n",
    "    # hpreact = (hpreact - bnmean)/bnstd\n",
    "    \n",
    "    # Use the running mean and stdy instead\n",
    "    hpreact = (hpreact - bnmean_running)/bnstd_running\n",
    "    \n",
    "    # Scale and shift the hpreact\n",
    "    hpreact = bngain * hpreact + bnbias\n",
    "    \n",
    "    h = torch.tanh(hpreact) # hidden layer activation\n",
    "\n",
    "    logits = h @ W2 + b2                    # output layer activation (N, vocab_size)\n",
    "    loss = F.cross_entropy(logits, y)\n",
    "    print(split, loss.item())\n",
    "    \n",
    "calculate_split_loss('train')\n",
    "calculate_split_loss('val')\n"
   ]
  },
  {
   "cell_type": "code",
   "execution_count": null,
   "id": "6ac12d7f",
   "metadata": {},
   "outputs": [],
   "source": [
    "# Video: 1:18:42 (start with one more summary)"
   ]
  }
 ],
 "metadata": {
  "kernelspec": {
   "display_name": "Python 3 (ipykernel)",
   "language": "python",
   "name": "python3"
  },
  "language_info": {
   "codemirror_mode": {
    "name": "ipython",
    "version": 3
   },
   "file_extension": ".py",
   "mimetype": "text/x-python",
   "name": "python",
   "nbconvert_exporter": "python",
   "pygments_lexer": "ipython3",
   "version": "3.10.9"
  }
 },
 "nbformat": 4,
 "nbformat_minor": 5
}
